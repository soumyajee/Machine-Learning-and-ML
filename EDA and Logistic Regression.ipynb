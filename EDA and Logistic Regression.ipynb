{
 "cells": [
  {
   "cell_type": "code",
   "execution_count": 18,
   "metadata": {
    "ExecuteTime": {
     "end_time": "2021-12-15T11:50:00.276243Z",
     "start_time": "2021-12-15T11:49:58.536451Z"
    }
   },
   "outputs": [],
   "source": [
    "## EDA ANALYSIS ON DS_dataset.csv file\n",
    "import pandas as pd #importing basics libraries\n",
    "import numpy as np  #importing basics numpy libraries\n",
    "import matplotlib.pyplot as plt\n",
    "import seaborn as sns\n"
   ]
  },
  {
   "cell_type": "code",
   "execution_count": 2,
   "metadata": {
    "ExecuteTime": {
     "end_time": "2021-12-15T11:40:33.400285Z",
     "start_time": "2021-12-15T11:40:33.262696Z"
    }
   },
   "outputs": [],
   "source": [
    "x=pd.read_csv('DS_dataset.csv') ## Read the datasets from csv file"
   ]
  },
  {
   "cell_type": "code",
   "execution_count": 3,
   "metadata": {
    "ExecuteTime": {
     "end_time": "2021-12-15T11:40:37.582782Z",
     "start_time": "2021-12-15T11:40:37.535751Z"
    }
   },
   "outputs": [
    {
     "data": {
      "text/html": [
       "<div>\n",
       "<style scoped>\n",
       "    .dataframe tbody tr th:only-of-type {\n",
       "        vertical-align: middle;\n",
       "    }\n",
       "\n",
       "    .dataframe tbody tr th {\n",
       "        vertical-align: top;\n",
       "    }\n",
       "\n",
       "    .dataframe thead th {\n",
       "        text-align: right;\n",
       "    }\n",
       "</style>\n",
       "<table border=\"1\" class=\"dataframe\">\n",
       "  <thead>\n",
       "    <tr style=\"text-align: right;\">\n",
       "      <th></th>\n",
       "      <th>Customer_ID</th>\n",
       "      <th>Var1</th>\n",
       "      <th>Var2</th>\n",
       "      <th>Group</th>\n",
       "      <th>Category</th>\n",
       "      <th>Rating</th>\n",
       "      <th>Purchased_ABC_product</th>\n",
       "    </tr>\n",
       "  </thead>\n",
       "  <tbody>\n",
       "    <tr>\n",
       "      <th>0</th>\n",
       "      <td>5518</td>\n",
       "      <td>41.534</td>\n",
       "      <td>12.123</td>\n",
       "      <td>G1</td>\n",
       "      <td>C1</td>\n",
       "      <td>Bronze</td>\n",
       "      <td>0</td>\n",
       "    </tr>\n",
       "    <tr>\n",
       "      <th>1</th>\n",
       "      <td>40515</td>\n",
       "      <td>9.445</td>\n",
       "      <td>0.256</td>\n",
       "      <td>G1</td>\n",
       "      <td>C1</td>\n",
       "      <td>Bronze</td>\n",
       "      <td>0</td>\n",
       "    </tr>\n",
       "    <tr>\n",
       "      <th>2</th>\n",
       "      <td>52697</td>\n",
       "      <td>37.599</td>\n",
       "      <td>3.199</td>\n",
       "      <td>G1</td>\n",
       "      <td>C2</td>\n",
       "      <td>Gold</td>\n",
       "      <td>0</td>\n",
       "    </tr>\n",
       "    <tr>\n",
       "      <th>3</th>\n",
       "      <td>68202</td>\n",
       "      <td>81.514</td>\n",
       "      <td>1.645</td>\n",
       "      <td>G1</td>\n",
       "      <td>C1</td>\n",
       "      <td>Silver</td>\n",
       "      <td>0</td>\n",
       "    </tr>\n",
       "    <tr>\n",
       "      <th>4</th>\n",
       "      <td>130003</td>\n",
       "      <td>46.805</td>\n",
       "      <td>1.706</td>\n",
       "      <td>G1</td>\n",
       "      <td>C1</td>\n",
       "      <td>Silver</td>\n",
       "      <td>0</td>\n",
       "    </tr>\n",
       "    <tr>\n",
       "      <th>...</th>\n",
       "      <td>...</td>\n",
       "      <td>...</td>\n",
       "      <td>...</td>\n",
       "      <td>...</td>\n",
       "      <td>...</td>\n",
       "      <td>...</td>\n",
       "      <td>...</td>\n",
       "    </tr>\n",
       "    <tr>\n",
       "      <th>30824</th>\n",
       "      <td>7047231</td>\n",
       "      <td>12.094</td>\n",
       "      <td>0.899</td>\n",
       "      <td>G5</td>\n",
       "      <td>C3</td>\n",
       "      <td>Bronze</td>\n",
       "      <td>1</td>\n",
       "    </tr>\n",
       "    <tr>\n",
       "      <th>30825</th>\n",
       "      <td>7079889</td>\n",
       "      <td>43.214</td>\n",
       "      <td>6.484</td>\n",
       "      <td>G5</td>\n",
       "      <td>C1</td>\n",
       "      <td>Bronze</td>\n",
       "      <td>1</td>\n",
       "    </tr>\n",
       "    <tr>\n",
       "      <th>30826</th>\n",
       "      <td>7155901</td>\n",
       "      <td>20.902</td>\n",
       "      <td>6.159</td>\n",
       "      <td>G5</td>\n",
       "      <td>C1</td>\n",
       "      <td>Bronze</td>\n",
       "      <td>1</td>\n",
       "    </tr>\n",
       "    <tr>\n",
       "      <th>30827</th>\n",
       "      <td>7180919</td>\n",
       "      <td>11.443</td>\n",
       "      <td>0.000</td>\n",
       "      <td>G5</td>\n",
       "      <td>C3</td>\n",
       "      <td>Bronze</td>\n",
       "      <td>0</td>\n",
       "    </tr>\n",
       "    <tr>\n",
       "      <th>30828</th>\n",
       "      <td>7182208</td>\n",
       "      <td>18.485</td>\n",
       "      <td>0.164</td>\n",
       "      <td>G5</td>\n",
       "      <td>C4</td>\n",
       "      <td>Bronze</td>\n",
       "      <td>0</td>\n",
       "    </tr>\n",
       "  </tbody>\n",
       "</table>\n",
       "<p>30829 rows × 7 columns</p>\n",
       "</div>"
      ],
      "text/plain": [
       "       Customer_ID    Var1    Var2 Group Category  Rating  \\\n",
       "0             5518  41.534  12.123    G1       C1  Bronze   \n",
       "1            40515   9.445   0.256    G1       C1  Bronze   \n",
       "2            52697  37.599   3.199    G1       C2    Gold   \n",
       "3            68202  81.514   1.645    G1       C1  Silver   \n",
       "4           130003  46.805   1.706    G1       C1  Silver   \n",
       "...            ...     ...     ...   ...      ...     ...   \n",
       "30824      7047231  12.094   0.899    G5       C3  Bronze   \n",
       "30825      7079889  43.214   6.484    G5       C1  Bronze   \n",
       "30826      7155901  20.902   6.159    G5       C1  Bronze   \n",
       "30827      7180919  11.443   0.000    G5       C3  Bronze   \n",
       "30828      7182208  18.485   0.164    G5       C4  Bronze   \n",
       "\n",
       "       Purchased_ABC_product  \n",
       "0                          0  \n",
       "1                          0  \n",
       "2                          0  \n",
       "3                          0  \n",
       "4                          0  \n",
       "...                      ...  \n",
       "30824                      1  \n",
       "30825                      1  \n",
       "30826                      1  \n",
       "30827                      0  \n",
       "30828                      0  \n",
       "\n",
       "[30829 rows x 7 columns]"
      ]
     },
     "execution_count": 3,
     "metadata": {},
     "output_type": "execute_result"
    }
   ],
   "source": [
    "x"
   ]
  },
  {
   "cell_type": "code",
   "execution_count": 4,
   "metadata": {
    "ExecuteTime": {
     "end_time": "2021-12-15T11:40:56.838571Z",
     "start_time": "2021-12-15T11:40:56.814055Z"
    }
   },
   "outputs": [
    {
     "data": {
      "text/html": [
       "<div>\n",
       "<style scoped>\n",
       "    .dataframe tbody tr th:only-of-type {\n",
       "        vertical-align: middle;\n",
       "    }\n",
       "\n",
       "    .dataframe tbody tr th {\n",
       "        vertical-align: top;\n",
       "    }\n",
       "\n",
       "    .dataframe thead th {\n",
       "        text-align: right;\n",
       "    }\n",
       "</style>\n",
       "<table border=\"1\" class=\"dataframe\">\n",
       "  <thead>\n",
       "    <tr style=\"text-align: right;\">\n",
       "      <th></th>\n",
       "      <th>Customer_ID</th>\n",
       "      <th>Var1</th>\n",
       "      <th>Var2</th>\n",
       "      <th>Group</th>\n",
       "      <th>Category</th>\n",
       "      <th>Rating</th>\n",
       "      <th>Purchased_ABC_product</th>\n",
       "    </tr>\n",
       "  </thead>\n",
       "  <tbody>\n",
       "    <tr>\n",
       "      <th>0</th>\n",
       "      <td>5518</td>\n",
       "      <td>41.534</td>\n",
       "      <td>12.123</td>\n",
       "      <td>G1</td>\n",
       "      <td>C1</td>\n",
       "      <td>Bronze</td>\n",
       "      <td>0</td>\n",
       "    </tr>\n",
       "    <tr>\n",
       "      <th>1</th>\n",
       "      <td>40515</td>\n",
       "      <td>9.445</td>\n",
       "      <td>0.256</td>\n",
       "      <td>G1</td>\n",
       "      <td>C1</td>\n",
       "      <td>Bronze</td>\n",
       "      <td>0</td>\n",
       "    </tr>\n",
       "    <tr>\n",
       "      <th>2</th>\n",
       "      <td>52697</td>\n",
       "      <td>37.599</td>\n",
       "      <td>3.199</td>\n",
       "      <td>G1</td>\n",
       "      <td>C2</td>\n",
       "      <td>Gold</td>\n",
       "      <td>0</td>\n",
       "    </tr>\n",
       "    <tr>\n",
       "      <th>3</th>\n",
       "      <td>68202</td>\n",
       "      <td>81.514</td>\n",
       "      <td>1.645</td>\n",
       "      <td>G1</td>\n",
       "      <td>C1</td>\n",
       "      <td>Silver</td>\n",
       "      <td>0</td>\n",
       "    </tr>\n",
       "    <tr>\n",
       "      <th>4</th>\n",
       "      <td>130003</td>\n",
       "      <td>46.805</td>\n",
       "      <td>1.706</td>\n",
       "      <td>G1</td>\n",
       "      <td>C1</td>\n",
       "      <td>Silver</td>\n",
       "      <td>0</td>\n",
       "    </tr>\n",
       "  </tbody>\n",
       "</table>\n",
       "</div>"
      ],
      "text/plain": [
       "   Customer_ID    Var1    Var2 Group Category  Rating  Purchased_ABC_product\n",
       "0         5518  41.534  12.123    G1       C1  Bronze                      0\n",
       "1        40515   9.445   0.256    G1       C1  Bronze                      0\n",
       "2        52697  37.599   3.199    G1       C2    Gold                      0\n",
       "3        68202  81.514   1.645    G1       C1  Silver                      0\n",
       "4       130003  46.805   1.706    G1       C1  Silver                      0"
      ]
     },
     "execution_count": 4,
     "metadata": {},
     "output_type": "execute_result"
    }
   ],
   "source": [
    "x.head() ## Analyze first five records of that datasets"
   ]
  },
  {
   "cell_type": "code",
   "execution_count": 5,
   "metadata": {
    "ExecuteTime": {
     "end_time": "2021-12-15T11:43:13.904249Z",
     "start_time": "2021-12-15T11:43:13.876229Z"
    }
   },
   "outputs": [
    {
     "data": {
      "text/html": [
       "<div>\n",
       "<style scoped>\n",
       "    .dataframe tbody tr th:only-of-type {\n",
       "        vertical-align: middle;\n",
       "    }\n",
       "\n",
       "    .dataframe tbody tr th {\n",
       "        vertical-align: top;\n",
       "    }\n",
       "\n",
       "    .dataframe thead th {\n",
       "        text-align: right;\n",
       "    }\n",
       "</style>\n",
       "<table border=\"1\" class=\"dataframe\">\n",
       "  <thead>\n",
       "    <tr style=\"text-align: right;\">\n",
       "      <th></th>\n",
       "      <th>Customer_ID</th>\n",
       "      <th>Var1</th>\n",
       "      <th>Var2</th>\n",
       "      <th>Group</th>\n",
       "      <th>Category</th>\n",
       "      <th>Rating</th>\n",
       "      <th>Purchased_ABC_product</th>\n",
       "    </tr>\n",
       "  </thead>\n",
       "  <tbody>\n",
       "    <tr>\n",
       "      <th>0</th>\n",
       "      <td>5518</td>\n",
       "      <td>41.534</td>\n",
       "      <td>12.123</td>\n",
       "      <td>G1</td>\n",
       "      <td>C1</td>\n",
       "      <td>Bronze</td>\n",
       "      <td>0</td>\n",
       "    </tr>\n",
       "    <tr>\n",
       "      <th>1</th>\n",
       "      <td>40515</td>\n",
       "      <td>9.445</td>\n",
       "      <td>0.256</td>\n",
       "      <td>G1</td>\n",
       "      <td>C1</td>\n",
       "      <td>Bronze</td>\n",
       "      <td>0</td>\n",
       "    </tr>\n",
       "    <tr>\n",
       "      <th>2</th>\n",
       "      <td>52697</td>\n",
       "      <td>37.599</td>\n",
       "      <td>3.199</td>\n",
       "      <td>G1</td>\n",
       "      <td>C2</td>\n",
       "      <td>Gold</td>\n",
       "      <td>0</td>\n",
       "    </tr>\n",
       "    <tr>\n",
       "      <th>3</th>\n",
       "      <td>68202</td>\n",
       "      <td>81.514</td>\n",
       "      <td>1.645</td>\n",
       "      <td>G1</td>\n",
       "      <td>C1</td>\n",
       "      <td>Silver</td>\n",
       "      <td>0</td>\n",
       "    </tr>\n",
       "    <tr>\n",
       "      <th>4</th>\n",
       "      <td>130003</td>\n",
       "      <td>46.805</td>\n",
       "      <td>1.706</td>\n",
       "      <td>G1</td>\n",
       "      <td>C1</td>\n",
       "      <td>Silver</td>\n",
       "      <td>0</td>\n",
       "    </tr>\n",
       "    <tr>\n",
       "      <th>5</th>\n",
       "      <td>175229</td>\n",
       "      <td>19.222</td>\n",
       "      <td>2.133</td>\n",
       "      <td>G1</td>\n",
       "      <td>C3</td>\n",
       "      <td>Silver</td>\n",
       "      <td>0</td>\n",
       "    </tr>\n",
       "    <tr>\n",
       "      <th>6</th>\n",
       "      <td>175295</td>\n",
       "      <td>41.091</td>\n",
       "      <td>2.536</td>\n",
       "      <td>G1</td>\n",
       "      <td>C4</td>\n",
       "      <td>Silver</td>\n",
       "      <td>1</td>\n",
       "    </tr>\n",
       "    <tr>\n",
       "      <th>7</th>\n",
       "      <td>181524</td>\n",
       "      <td>96.706</td>\n",
       "      <td>9.295</td>\n",
       "      <td>G1</td>\n",
       "      <td>C1</td>\n",
       "      <td>Gold</td>\n",
       "      <td>1</td>\n",
       "    </tr>\n",
       "    <tr>\n",
       "      <th>8</th>\n",
       "      <td>183955</td>\n",
       "      <td>82.989</td>\n",
       "      <td>5.431</td>\n",
       "      <td>G1</td>\n",
       "      <td>C2</td>\n",
       "      <td>Gold</td>\n",
       "      <td>1</td>\n",
       "    </tr>\n",
       "    <tr>\n",
       "      <th>9</th>\n",
       "      <td>232643</td>\n",
       "      <td>2.009</td>\n",
       "      <td>1.084</td>\n",
       "      <td>G1</td>\n",
       "      <td>C1</td>\n",
       "      <td>Silver</td>\n",
       "      <td>1</td>\n",
       "    </tr>\n",
       "  </tbody>\n",
       "</table>\n",
       "</div>"
      ],
      "text/plain": [
       "   Customer_ID    Var1    Var2 Group Category  Rating  Purchased_ABC_product\n",
       "0         5518  41.534  12.123    G1       C1  Bronze                      0\n",
       "1        40515   9.445   0.256    G1       C1  Bronze                      0\n",
       "2        52697  37.599   3.199    G1       C2    Gold                      0\n",
       "3        68202  81.514   1.645    G1       C1  Silver                      0\n",
       "4       130003  46.805   1.706    G1       C1  Silver                      0\n",
       "5       175229  19.222   2.133    G1       C3  Silver                      0\n",
       "6       175295  41.091   2.536    G1       C4  Silver                      1\n",
       "7       181524  96.706   9.295    G1       C1    Gold                      1\n",
       "8       183955  82.989   5.431    G1       C2    Gold                      1\n",
       "9       232643   2.009   1.084    G1       C1  Silver                      1"
      ]
     },
     "execution_count": 5,
     "metadata": {},
     "output_type": "execute_result"
    }
   ],
   "source": [
    "x.head(10)"
   ]
  },
  {
   "cell_type": "code",
   "execution_count": 6,
   "metadata": {
    "ExecuteTime": {
     "end_time": "2021-12-15T11:43:41.447391Z",
     "start_time": "2021-12-15T11:43:41.438386Z"
    }
   },
   "outputs": [
    {
     "data": {
      "text/plain": [
       "(30829, 7)"
      ]
     },
     "execution_count": 6,
     "metadata": {},
     "output_type": "execute_result"
    }
   ],
   "source": [
    "#Data Structure \n",
    "type(x)\n",
    "x.shape"
   ]
  },
  {
   "cell_type": "code",
   "execution_count": 8,
   "metadata": {
    "ExecuteTime": {
     "end_time": "2021-12-15T11:43:57.224778Z",
     "start_time": "2021-12-15T11:43:57.215270Z"
    }
   },
   "outputs": [
    {
     "data": {
      "text/plain": [
       "Customer_ID                int64\n",
       "Var1                     float64\n",
       "Var2                     float64\n",
       "Group                     object\n",
       "Category                  object\n",
       "Rating                    object\n",
       "Purchased_ABC_product      int64\n",
       "dtype: object"
      ]
     },
     "execution_count": 8,
     "metadata": {},
     "output_type": "execute_result"
    }
   ],
   "source": [
    "#data types\n",
    "x.dtypes "
   ]
  },
  {
   "cell_type": "code",
   "execution_count": 9,
   "metadata": {
    "ExecuteTime": {
     "end_time": "2021-12-15T11:44:16.798520Z",
     "start_time": "2021-12-15T11:44:16.760495Z"
    }
   },
   "outputs": [
    {
     "name": "stdout",
     "output_type": "stream",
     "text": [
      "<class 'pandas.core.frame.DataFrame'>\n",
      "RangeIndex: 30829 entries, 0 to 30828\n",
      "Data columns (total 7 columns):\n",
      " #   Column                 Non-Null Count  Dtype  \n",
      "---  ------                 --------------  -----  \n",
      " 0   Customer_ID            30829 non-null  int64  \n",
      " 1   Var1                   30829 non-null  float64\n",
      " 2   Var2                   30829 non-null  float64\n",
      " 3   Group                  30829 non-null  object \n",
      " 4   Category               30829 non-null  object \n",
      " 5   Rating                 30829 non-null  object \n",
      " 6   Purchased_ABC_product  30829 non-null  int64  \n",
      "dtypes: float64(2), int64(2), object(3)\n",
      "memory usage: 1.6+ MB\n"
     ]
    }
   ],
   "source": [
    "## Data Type Conversions##\n",
    "x.info()"
   ]
  },
  {
   "cell_type": "code",
   "execution_count": 10,
   "metadata": {
    "ExecuteTime": {
     "end_time": "2021-12-15T11:46:03.090751Z",
     "start_time": "2021-12-15T11:46:03.048223Z"
    }
   },
   "outputs": [
    {
     "data": {
      "text/plain": [
       "(0, 7)"
      ]
     },
     "execution_count": 10,
     "metadata": {},
     "output_type": "execute_result"
    }
   ],
   "source": [
    "## Find out duplicate items present inside datasets\n",
    "x[x.duplicated()].shape "
   ]
  },
  {
   "cell_type": "code",
   "execution_count": 11,
   "metadata": {
    "ExecuteTime": {
     "end_time": "2021-12-15T11:46:11.108368Z",
     "start_time": "2021-12-15T11:46:11.079849Z"
    }
   },
   "outputs": [
    {
     "data": {
      "text/html": [
       "<div>\n",
       "<style scoped>\n",
       "    .dataframe tbody tr th:only-of-type {\n",
       "        vertical-align: middle;\n",
       "    }\n",
       "\n",
       "    .dataframe tbody tr th {\n",
       "        vertical-align: top;\n",
       "    }\n",
       "\n",
       "    .dataframe thead th {\n",
       "        text-align: right;\n",
       "    }\n",
       "</style>\n",
       "<table border=\"1\" class=\"dataframe\">\n",
       "  <thead>\n",
       "    <tr style=\"text-align: right;\">\n",
       "      <th></th>\n",
       "      <th>Customer_ID</th>\n",
       "      <th>Var1</th>\n",
       "      <th>Var2</th>\n",
       "      <th>Group</th>\n",
       "      <th>Category</th>\n",
       "      <th>Rating</th>\n",
       "      <th>Purchased_ABC_product</th>\n",
       "    </tr>\n",
       "  </thead>\n",
       "  <tbody>\n",
       "    <tr>\n",
       "      <th>0</th>\n",
       "      <td>5518</td>\n",
       "      <td>41.534</td>\n",
       "      <td>12.123</td>\n",
       "      <td>G1</td>\n",
       "      <td>C1</td>\n",
       "      <td>Bronze</td>\n",
       "      <td>0</td>\n",
       "    </tr>\n",
       "    <tr>\n",
       "      <th>1</th>\n",
       "      <td>40515</td>\n",
       "      <td>9.445</td>\n",
       "      <td>0.256</td>\n",
       "      <td>G1</td>\n",
       "      <td>C1</td>\n",
       "      <td>Bronze</td>\n",
       "      <td>0</td>\n",
       "    </tr>\n",
       "    <tr>\n",
       "      <th>2</th>\n",
       "      <td>52697</td>\n",
       "      <td>37.599</td>\n",
       "      <td>3.199</td>\n",
       "      <td>G1</td>\n",
       "      <td>C2</td>\n",
       "      <td>Gold</td>\n",
       "      <td>0</td>\n",
       "    </tr>\n",
       "    <tr>\n",
       "      <th>3</th>\n",
       "      <td>68202</td>\n",
       "      <td>81.514</td>\n",
       "      <td>1.645</td>\n",
       "      <td>G1</td>\n",
       "      <td>C1</td>\n",
       "      <td>Silver</td>\n",
       "      <td>0</td>\n",
       "    </tr>\n",
       "    <tr>\n",
       "      <th>4</th>\n",
       "      <td>130003</td>\n",
       "      <td>46.805</td>\n",
       "      <td>1.706</td>\n",
       "      <td>G1</td>\n",
       "      <td>C1</td>\n",
       "      <td>Silver</td>\n",
       "      <td>0</td>\n",
       "    </tr>\n",
       "    <tr>\n",
       "      <th>...</th>\n",
       "      <td>...</td>\n",
       "      <td>...</td>\n",
       "      <td>...</td>\n",
       "      <td>...</td>\n",
       "      <td>...</td>\n",
       "      <td>...</td>\n",
       "      <td>...</td>\n",
       "    </tr>\n",
       "    <tr>\n",
       "      <th>30824</th>\n",
       "      <td>7047231</td>\n",
       "      <td>12.094</td>\n",
       "      <td>0.899</td>\n",
       "      <td>G5</td>\n",
       "      <td>C3</td>\n",
       "      <td>Bronze</td>\n",
       "      <td>1</td>\n",
       "    </tr>\n",
       "    <tr>\n",
       "      <th>30825</th>\n",
       "      <td>7079889</td>\n",
       "      <td>43.214</td>\n",
       "      <td>6.484</td>\n",
       "      <td>G5</td>\n",
       "      <td>C1</td>\n",
       "      <td>Bronze</td>\n",
       "      <td>1</td>\n",
       "    </tr>\n",
       "    <tr>\n",
       "      <th>30826</th>\n",
       "      <td>7155901</td>\n",
       "      <td>20.902</td>\n",
       "      <td>6.159</td>\n",
       "      <td>G5</td>\n",
       "      <td>C1</td>\n",
       "      <td>Bronze</td>\n",
       "      <td>1</td>\n",
       "    </tr>\n",
       "    <tr>\n",
       "      <th>30827</th>\n",
       "      <td>7180919</td>\n",
       "      <td>11.443</td>\n",
       "      <td>0.000</td>\n",
       "      <td>G5</td>\n",
       "      <td>C3</td>\n",
       "      <td>Bronze</td>\n",
       "      <td>0</td>\n",
       "    </tr>\n",
       "    <tr>\n",
       "      <th>30828</th>\n",
       "      <td>7182208</td>\n",
       "      <td>18.485</td>\n",
       "      <td>0.164</td>\n",
       "      <td>G5</td>\n",
       "      <td>C4</td>\n",
       "      <td>Bronze</td>\n",
       "      <td>0</td>\n",
       "    </tr>\n",
       "  </tbody>\n",
       "</table>\n",
       "<p>30829 rows × 7 columns</p>\n",
       "</div>"
      ],
      "text/plain": [
       "       Customer_ID    Var1    Var2 Group Category  Rating  \\\n",
       "0             5518  41.534  12.123    G1       C1  Bronze   \n",
       "1            40515   9.445   0.256    G1       C1  Bronze   \n",
       "2            52697  37.599   3.199    G1       C2    Gold   \n",
       "3            68202  81.514   1.645    G1       C1  Silver   \n",
       "4           130003  46.805   1.706    G1       C1  Silver   \n",
       "...            ...     ...     ...   ...      ...     ...   \n",
       "30824      7047231  12.094   0.899    G5       C3  Bronze   \n",
       "30825      7079889  43.214   6.484    G5       C1  Bronze   \n",
       "30826      7155901  20.902   6.159    G5       C1  Bronze   \n",
       "30827      7180919  11.443   0.000    G5       C3  Bronze   \n",
       "30828      7182208  18.485   0.164    G5       C4  Bronze   \n",
       "\n",
       "       Purchased_ABC_product  \n",
       "0                          0  \n",
       "1                          0  \n",
       "2                          0  \n",
       "3                          0  \n",
       "4                          0  \n",
       "...                      ...  \n",
       "30824                      1  \n",
       "30825                      1  \n",
       "30826                      1  \n",
       "30827                      0  \n",
       "30828                      0  \n",
       "\n",
       "[30829 rows x 7 columns]"
      ]
     },
     "execution_count": 11,
     "metadata": {},
     "output_type": "execute_result"
    }
   ],
   "source": [
    "x"
   ]
  },
  {
   "cell_type": "code",
   "execution_count": 12,
   "metadata": {
    "ExecuteTime": {
     "end_time": "2021-12-15T11:46:51.883411Z",
     "start_time": "2021-12-15T11:46:51.839881Z"
    }
   },
   "outputs": [
    {
     "data": {
      "text/html": [
       "<div>\n",
       "<style scoped>\n",
       "    .dataframe tbody tr th:only-of-type {\n",
       "        vertical-align: middle;\n",
       "    }\n",
       "\n",
       "    .dataframe tbody tr th {\n",
       "        vertical-align: top;\n",
       "    }\n",
       "\n",
       "    .dataframe thead th {\n",
       "        text-align: right;\n",
       "    }\n",
       "</style>\n",
       "<table border=\"1\" class=\"dataframe\">\n",
       "  <thead>\n",
       "    <tr style=\"text-align: right;\">\n",
       "      <th></th>\n",
       "      <th>Customer_ID</th>\n",
       "      <th>Var1</th>\n",
       "      <th>Var2</th>\n",
       "      <th>Group</th>\n",
       "      <th>Category</th>\n",
       "      <th>Rating</th>\n",
       "      <th>Purchased_ABC_product</th>\n",
       "    </tr>\n",
       "  </thead>\n",
       "  <tbody>\n",
       "    <tr>\n",
       "      <th>0</th>\n",
       "      <td>False</td>\n",
       "      <td>False</td>\n",
       "      <td>False</td>\n",
       "      <td>False</td>\n",
       "      <td>False</td>\n",
       "      <td>False</td>\n",
       "      <td>False</td>\n",
       "    </tr>\n",
       "    <tr>\n",
       "      <th>1</th>\n",
       "      <td>False</td>\n",
       "      <td>False</td>\n",
       "      <td>False</td>\n",
       "      <td>False</td>\n",
       "      <td>False</td>\n",
       "      <td>False</td>\n",
       "      <td>False</td>\n",
       "    </tr>\n",
       "    <tr>\n",
       "      <th>2</th>\n",
       "      <td>False</td>\n",
       "      <td>False</td>\n",
       "      <td>False</td>\n",
       "      <td>False</td>\n",
       "      <td>False</td>\n",
       "      <td>False</td>\n",
       "      <td>False</td>\n",
       "    </tr>\n",
       "    <tr>\n",
       "      <th>3</th>\n",
       "      <td>False</td>\n",
       "      <td>False</td>\n",
       "      <td>False</td>\n",
       "      <td>False</td>\n",
       "      <td>False</td>\n",
       "      <td>False</td>\n",
       "      <td>False</td>\n",
       "    </tr>\n",
       "    <tr>\n",
       "      <th>4</th>\n",
       "      <td>False</td>\n",
       "      <td>False</td>\n",
       "      <td>False</td>\n",
       "      <td>False</td>\n",
       "      <td>False</td>\n",
       "      <td>False</td>\n",
       "      <td>False</td>\n",
       "    </tr>\n",
       "    <tr>\n",
       "      <th>...</th>\n",
       "      <td>...</td>\n",
       "      <td>...</td>\n",
       "      <td>...</td>\n",
       "      <td>...</td>\n",
       "      <td>...</td>\n",
       "      <td>...</td>\n",
       "      <td>...</td>\n",
       "    </tr>\n",
       "    <tr>\n",
       "      <th>30824</th>\n",
       "      <td>False</td>\n",
       "      <td>False</td>\n",
       "      <td>False</td>\n",
       "      <td>False</td>\n",
       "      <td>False</td>\n",
       "      <td>False</td>\n",
       "      <td>False</td>\n",
       "    </tr>\n",
       "    <tr>\n",
       "      <th>30825</th>\n",
       "      <td>False</td>\n",
       "      <td>False</td>\n",
       "      <td>False</td>\n",
       "      <td>False</td>\n",
       "      <td>False</td>\n",
       "      <td>False</td>\n",
       "      <td>False</td>\n",
       "    </tr>\n",
       "    <tr>\n",
       "      <th>30826</th>\n",
       "      <td>False</td>\n",
       "      <td>False</td>\n",
       "      <td>False</td>\n",
       "      <td>False</td>\n",
       "      <td>False</td>\n",
       "      <td>False</td>\n",
       "      <td>False</td>\n",
       "    </tr>\n",
       "    <tr>\n",
       "      <th>30827</th>\n",
       "      <td>False</td>\n",
       "      <td>False</td>\n",
       "      <td>False</td>\n",
       "      <td>False</td>\n",
       "      <td>False</td>\n",
       "      <td>False</td>\n",
       "      <td>False</td>\n",
       "    </tr>\n",
       "    <tr>\n",
       "      <th>30828</th>\n",
       "      <td>False</td>\n",
       "      <td>False</td>\n",
       "      <td>False</td>\n",
       "      <td>False</td>\n",
       "      <td>False</td>\n",
       "      <td>False</td>\n",
       "      <td>False</td>\n",
       "    </tr>\n",
       "  </tbody>\n",
       "</table>\n",
       "<p>30829 rows × 7 columns</p>\n",
       "</div>"
      ],
      "text/plain": [
       "       Customer_ID   Var1   Var2  Group  Category  Rating  \\\n",
       "0            False  False  False  False     False   False   \n",
       "1            False  False  False  False     False   False   \n",
       "2            False  False  False  False     False   False   \n",
       "3            False  False  False  False     False   False   \n",
       "4            False  False  False  False     False   False   \n",
       "...            ...    ...    ...    ...       ...     ...   \n",
       "30824        False  False  False  False     False   False   \n",
       "30825        False  False  False  False     False   False   \n",
       "30826        False  False  False  False     False   False   \n",
       "30827        False  False  False  False     False   False   \n",
       "30828        False  False  False  False     False   False   \n",
       "\n",
       "       Purchased_ABC_product  \n",
       "0                      False  \n",
       "1                      False  \n",
       "2                      False  \n",
       "3                      False  \n",
       "4                      False  \n",
       "...                      ...  \n",
       "30824                  False  \n",
       "30825                  False  \n",
       "30826                  False  \n",
       "30827                  False  \n",
       "30828                  False  \n",
       "\n",
       "[30829 rows x 7 columns]"
      ]
     },
     "execution_count": 12,
     "metadata": {},
     "output_type": "execute_result"
    }
   ],
   "source": [
    "x.isnull() ## Find out any null values are presents or not in our datasets"
   ]
  },
  {
   "cell_type": "code",
   "execution_count": 19,
   "metadata": {
    "ExecuteTime": {
     "end_time": "2021-12-15T11:53:03.222194Z",
     "start_time": "2021-12-15T11:53:03.157639Z"
    }
   },
   "outputs": [
    {
     "data": {
      "text/html": [
       "<div>\n",
       "<style scoped>\n",
       "    .dataframe tbody tr th:only-of-type {\n",
       "        vertical-align: middle;\n",
       "    }\n",
       "\n",
       "    .dataframe tbody tr th {\n",
       "        vertical-align: top;\n",
       "    }\n",
       "\n",
       "    .dataframe thead th {\n",
       "        text-align: right;\n",
       "    }\n",
       "</style>\n",
       "<table border=\"1\" class=\"dataframe\">\n",
       "  <thead>\n",
       "    <tr style=\"text-align: right;\">\n",
       "      <th></th>\n",
       "      <th>Customer_ID</th>\n",
       "      <th>Var1</th>\n",
       "      <th>Var2</th>\n",
       "      <th>Purchased_ABC_product</th>\n",
       "    </tr>\n",
       "  </thead>\n",
       "  <tbody>\n",
       "    <tr>\n",
       "      <th>count</th>\n",
       "      <td>3.082900e+04</td>\n",
       "      <td>30829.000000</td>\n",
       "      <td>30829.000000</td>\n",
       "      <td>30829.000000</td>\n",
       "    </tr>\n",
       "    <tr>\n",
       "      <th>mean</th>\n",
       "      <td>3.057482e+06</td>\n",
       "      <td>64.868318</td>\n",
       "      <td>4.994489</td>\n",
       "      <td>0.503552</td>\n",
       "    </tr>\n",
       "    <tr>\n",
       "      <th>std</th>\n",
       "      <td>2.210470e+06</td>\n",
       "      <td>114.373345</td>\n",
       "      <td>9.533546</td>\n",
       "      <td>0.499995</td>\n",
       "    </tr>\n",
       "    <tr>\n",
       "      <th>min</th>\n",
       "      <td>6.470000e+02</td>\n",
       "      <td>0.251000</td>\n",
       "      <td>0.000000</td>\n",
       "      <td>0.000000</td>\n",
       "    </tr>\n",
       "    <tr>\n",
       "      <th>25%</th>\n",
       "      <td>1.501804e+06</td>\n",
       "      <td>13.256000</td>\n",
       "      <td>0.668000</td>\n",
       "      <td>0.000000</td>\n",
       "    </tr>\n",
       "    <tr>\n",
       "      <th>50%</th>\n",
       "      <td>2.192582e+06</td>\n",
       "      <td>31.860000</td>\n",
       "      <td>2.189000</td>\n",
       "      <td>1.000000</td>\n",
       "    </tr>\n",
       "    <tr>\n",
       "      <th>75%</th>\n",
       "      <td>4.732076e+06</td>\n",
       "      <td>68.702000</td>\n",
       "      <td>5.482000</td>\n",
       "      <td>1.000000</td>\n",
       "    </tr>\n",
       "    <tr>\n",
       "      <th>max</th>\n",
       "      <td>7.285914e+06</td>\n",
       "      <td>2909.776000</td>\n",
       "      <td>317.380000</td>\n",
       "      <td>1.000000</td>\n",
       "    </tr>\n",
       "  </tbody>\n",
       "</table>\n",
       "</div>"
      ],
      "text/plain": [
       "        Customer_ID          Var1          Var2  Purchased_ABC_product\n",
       "count  3.082900e+04  30829.000000  30829.000000           30829.000000\n",
       "mean   3.057482e+06     64.868318      4.994489               0.503552\n",
       "std    2.210470e+06    114.373345      9.533546               0.499995\n",
       "min    6.470000e+02      0.251000      0.000000               0.000000\n",
       "25%    1.501804e+06     13.256000      0.668000               0.000000\n",
       "50%    2.192582e+06     31.860000      2.189000               1.000000\n",
       "75%    4.732076e+06     68.702000      5.482000               1.000000\n",
       "max    7.285914e+06   2909.776000    317.380000               1.000000"
      ]
     },
     "execution_count": 19,
     "metadata": {},
     "output_type": "execute_result"
    }
   ],
   "source": [
    "x.describe()"
   ]
  },
  {
   "cell_type": "code",
   "execution_count": 21,
   "metadata": {
    "ExecuteTime": {
     "end_time": "2021-12-15T11:54:06.953603Z",
     "start_time": "2021-12-15T11:53:59.519363Z"
    }
   },
   "outputs": [
    {
     "data": {
      "text/plain": [
       "<seaborn.axisgrid.PairGrid at 0x1da7e4508b0>"
      ]
     },
     "execution_count": 21,
     "metadata": {},
     "output_type": "execute_result"
    },
    {
     "data": {
      "image/png": "[encoded data removed]",
      "text/plain": [
       "<Figure size 720x720 with 20 Axes>"
      ]
     },
     "metadata": {
      "needs_background": "light"
     },
     "output_type": "display_data"
    }
   ],
   "source": [
    "sns.pairplot(x)## here pairplot is basically use to check the correlations here\n"
   ]
  },
  {
   "cell_type": "code",
   "execution_count": 29,
   "metadata": {
    "ExecuteTime": {
     "end_time": "2021-12-15T11:59:36.119583Z",
     "start_time": "2021-12-15T11:59:35.827356Z"
    }
   },
   "outputs": [
    {
     "data": {
      "text/plain": [
       "<matplotlib.axes._subplots.AxesSubplot at 0x1da7db1d490>"
      ]
     },
     "execution_count": 29,
     "metadata": {},
     "output_type": "execute_result"
    },
    {
     "data": {
      "image/png": "[encoded data removed]",
      "text/plain": [
       "<Figure size 432x288 with 1 Axes>"
      ]
     },
     "metadata": {
      "needs_background": "light"
     },
     "output_type": "display_data"
    }
   ],
   "source": [
    "x['Var2'].hist() "
   ]
  },
  {
   "cell_type": "code",
   "execution_count": 32,
   "metadata": {
    "ExecuteTime": {
     "end_time": "2021-12-15T12:08:32.145281Z",
     "start_time": "2021-12-15T12:08:31.877455Z"
    }
   },
   "outputs": [
    {
     "data": {
      "text/plain": [
       "<matplotlib.axes._subplots.AxesSubplot at 0x1da81564940>"
      ]
     },
     "execution_count": 32,
     "metadata": {},
     "output_type": "execute_result"
    },
    {
     "data": {
      "image/png": "[encoded data removed]",
      "text/plain": [
       "<Figure size 432x288 with 1 Axes>"
      ]
     },
     "metadata": {
      "needs_background": "light"
     },
     "output_type": "display_data"
    }
   ],
   "source": [
    "x.boxplot(column='Var1') ## here we have to find out outliers of our data"
   ]
  },
  {
   "cell_type": "code",
   "execution_count": 33,
   "metadata": {
    "ExecuteTime": {
     "end_time": "2021-12-15T12:09:31.036693Z",
     "start_time": "2021-12-15T12:09:30.764989Z"
    }
   },
   "outputs": [
    {
     "data": {
      "text/plain": [
       "<matplotlib.axes._subplots.AxesSubplot at 0x1da82bc3bb0>"
      ]
     },
     "execution_count": 33,
     "metadata": {},
     "output_type": "execute_result"
    },
    {
     "data": {
      "image/png": "[encoded data removed]",
      "text/plain": [
       "<Figure size 432x288 with 1 Axes>"
      ]
     },
     "metadata": {
      "needs_background": "light"
     },
     "output_type": "display_data"
    }
   ],
   "source": [
    "x.boxplot(column='Var2')"
   ]
  },
  {
   "cell_type": "code",
   "execution_count": 35,
   "metadata": {
    "ExecuteTime": {
     "end_time": "2021-12-15T12:10:08.799284Z",
     "start_time": "2021-12-15T12:10:08.782271Z"
    }
   },
   "outputs": [
    {
     "data": {
      "text/plain": [
       "count    30829.000000\n",
       "mean         4.994489\n",
       "std          9.533546\n",
       "min          0.000000\n",
       "25%          0.668000\n",
       "50%          2.189000\n",
       "75%          5.482000\n",
       "max        317.380000\n",
       "Name: Var2, dtype: float64"
      ]
     },
     "execution_count": 35,
     "metadata": {},
     "output_type": "execute_result"
    }
   ],
   "source": [
    "x['Var2'].describe()"
   ]
  },
  {
   "cell_type": "code",
   "execution_count": 36,
   "metadata": {
    "ExecuteTime": {
     "end_time": "2021-12-15T12:10:31.822371Z",
     "start_time": "2021-12-15T12:10:31.805358Z"
    }
   },
   "outputs": [
    {
     "data": {
      "text/plain": [
       "count    30829.000000\n",
       "mean        64.868318\n",
       "std        114.373345\n",
       "min          0.251000\n",
       "25%         13.256000\n",
       "50%         31.860000\n",
       "75%         68.702000\n",
       "max       2909.776000\n",
       "Name: Var1, dtype: float64"
      ]
     },
     "execution_count": 36,
     "metadata": {},
     "output_type": "execute_result"
    }
   ],
   "source": [
    "x['Var1'].describe()"
   ]
  },
  {
   "cell_type": "code",
   "execution_count": 37,
   "metadata": {
    "ExecuteTime": {
     "end_time": "2021-12-15T12:11:38.436524Z",
     "start_time": "2021-12-15T12:11:38.423516Z"
    }
   },
   "outputs": [],
   "source": [
    "x.drop([\"Customer_ID\"],inplace=True,axis = 1)"
   ]
  },
  {
   "cell_type": "code",
   "execution_count": 38,
   "metadata": {
    "ExecuteTime": {
     "end_time": "2021-12-15T12:11:42.294729Z",
     "start_time": "2021-12-15T12:11:42.270207Z"
    }
   },
   "outputs": [
    {
     "data": {
      "text/html": [
       "<div>\n",
       "<style scoped>\n",
       "    .dataframe tbody tr th:only-of-type {\n",
       "        vertical-align: middle;\n",
       "    }\n",
       "\n",
       "    .dataframe tbody tr th {\n",
       "        vertical-align: top;\n",
       "    }\n",
       "\n",
       "    .dataframe thead th {\n",
       "        text-align: right;\n",
       "    }\n",
       "</style>\n",
       "<table border=\"1\" class=\"dataframe\">\n",
       "  <thead>\n",
       "    <tr style=\"text-align: right;\">\n",
       "      <th></th>\n",
       "      <th>Var1</th>\n",
       "      <th>Var2</th>\n",
       "      <th>Group</th>\n",
       "      <th>Category</th>\n",
       "      <th>Rating</th>\n",
       "      <th>Purchased_ABC_product</th>\n",
       "    </tr>\n",
       "  </thead>\n",
       "  <tbody>\n",
       "    <tr>\n",
       "      <th>0</th>\n",
       "      <td>41.534</td>\n",
       "      <td>12.123</td>\n",
       "      <td>G1</td>\n",
       "      <td>C1</td>\n",
       "      <td>Bronze</td>\n",
       "      <td>0</td>\n",
       "    </tr>\n",
       "    <tr>\n",
       "      <th>1</th>\n",
       "      <td>9.445</td>\n",
       "      <td>0.256</td>\n",
       "      <td>G1</td>\n",
       "      <td>C1</td>\n",
       "      <td>Bronze</td>\n",
       "      <td>0</td>\n",
       "    </tr>\n",
       "    <tr>\n",
       "      <th>2</th>\n",
       "      <td>37.599</td>\n",
       "      <td>3.199</td>\n",
       "      <td>G1</td>\n",
       "      <td>C2</td>\n",
       "      <td>Gold</td>\n",
       "      <td>0</td>\n",
       "    </tr>\n",
       "    <tr>\n",
       "      <th>3</th>\n",
       "      <td>81.514</td>\n",
       "      <td>1.645</td>\n",
       "      <td>G1</td>\n",
       "      <td>C1</td>\n",
       "      <td>Silver</td>\n",
       "      <td>0</td>\n",
       "    </tr>\n",
       "    <tr>\n",
       "      <th>4</th>\n",
       "      <td>46.805</td>\n",
       "      <td>1.706</td>\n",
       "      <td>G1</td>\n",
       "      <td>C1</td>\n",
       "      <td>Silver</td>\n",
       "      <td>0</td>\n",
       "    </tr>\n",
       "    <tr>\n",
       "      <th>...</th>\n",
       "      <td>...</td>\n",
       "      <td>...</td>\n",
       "      <td>...</td>\n",
       "      <td>...</td>\n",
       "      <td>...</td>\n",
       "      <td>...</td>\n",
       "    </tr>\n",
       "    <tr>\n",
       "      <th>30824</th>\n",
       "      <td>12.094</td>\n",
       "      <td>0.899</td>\n",
       "      <td>G5</td>\n",
       "      <td>C3</td>\n",
       "      <td>Bronze</td>\n",
       "      <td>1</td>\n",
       "    </tr>\n",
       "    <tr>\n",
       "      <th>30825</th>\n",
       "      <td>43.214</td>\n",
       "      <td>6.484</td>\n",
       "      <td>G5</td>\n",
       "      <td>C1</td>\n",
       "      <td>Bronze</td>\n",
       "      <td>1</td>\n",
       "    </tr>\n",
       "    <tr>\n",
       "      <th>30826</th>\n",
       "      <td>20.902</td>\n",
       "      <td>6.159</td>\n",
       "      <td>G5</td>\n",
       "      <td>C1</td>\n",
       "      <td>Bronze</td>\n",
       "      <td>1</td>\n",
       "    </tr>\n",
       "    <tr>\n",
       "      <th>30827</th>\n",
       "      <td>11.443</td>\n",
       "      <td>0.000</td>\n",
       "      <td>G5</td>\n",
       "      <td>C3</td>\n",
       "      <td>Bronze</td>\n",
       "      <td>0</td>\n",
       "    </tr>\n",
       "    <tr>\n",
       "      <th>30828</th>\n",
       "      <td>18.485</td>\n",
       "      <td>0.164</td>\n",
       "      <td>G5</td>\n",
       "      <td>C4</td>\n",
       "      <td>Bronze</td>\n",
       "      <td>0</td>\n",
       "    </tr>\n",
       "  </tbody>\n",
       "</table>\n",
       "<p>30829 rows × 6 columns</p>\n",
       "</div>"
      ],
      "text/plain": [
       "         Var1    Var2 Group Category  Rating  Purchased_ABC_product\n",
       "0      41.534  12.123    G1       C1  Bronze                      0\n",
       "1       9.445   0.256    G1       C1  Bronze                      0\n",
       "2      37.599   3.199    G1       C2    Gold                      0\n",
       "3      81.514   1.645    G1       C1  Silver                      0\n",
       "4      46.805   1.706    G1       C1  Silver                      0\n",
       "...       ...     ...   ...      ...     ...                    ...\n",
       "30824  12.094   0.899    G5       C3  Bronze                      1\n",
       "30825  43.214   6.484    G5       C1  Bronze                      1\n",
       "30826  20.902   6.159    G5       C1  Bronze                      1\n",
       "30827  11.443   0.000    G5       C3  Bronze                      0\n",
       "30828  18.485   0.164    G5       C4  Bronze                      0\n",
       "\n",
       "[30829 rows x 6 columns]"
      ]
     },
     "execution_count": 38,
     "metadata": {},
     "output_type": "execute_result"
    }
   ],
   "source": [
    "x"
   ]
  },
  {
   "cell_type": "code",
   "execution_count": 40,
   "metadata": {
    "ExecuteTime": {
     "end_time": "2021-12-15T12:13:26.861158Z",
     "start_time": "2021-12-15T12:13:26.658498Z"
    }
   },
   "outputs": [
    {
     "data": {
      "text/plain": [
       "<matplotlib.axes._subplots.AxesSubplot at 0x1da81438ee0>"
      ]
     },
     "execution_count": 40,
     "metadata": {},
     "output_type": "execute_result"
    },
    {
     "data": {
      "image/png": "[encoded data removed]",
      "text/plain": [
       "<Figure size 432x288 with 1 Axes>"
      ]
     },
     "metadata": {
      "needs_background": "light"
     },
     "output_type": "display_data"
    }
   ],
   "source": [
    "sns.countplot(x='Purchased_ABC_product',data=x,palette=\"hls\")## here we have to draw a countplot based on purchased_ABC_product"
   ]
  },
  {
   "cell_type": "code",
   "execution_count": 41,
   "metadata": {
    "ExecuteTime": {
     "end_time": "2021-12-15T12:14:58.285722Z",
     "start_time": "2021-12-15T12:14:58.221170Z"
    }
   },
   "outputs": [
    {
     "data": {
      "text/html": [
       "<div>\n",
       "<style scoped>\n",
       "    .dataframe tbody tr th:only-of-type {\n",
       "        vertical-align: middle;\n",
       "    }\n",
       "\n",
       "    .dataframe tbody tr th {\n",
       "        vertical-align: top;\n",
       "    }\n",
       "\n",
       "    .dataframe thead th {\n",
       "        text-align: right;\n",
       "    }\n",
       "</style>\n",
       "<table border=\"1\" class=\"dataframe\">\n",
       "  <thead>\n",
       "    <tr style=\"text-align: right;\">\n",
       "      <th>Rating</th>\n",
       "      <th>Bronze</th>\n",
       "      <th>Gold</th>\n",
       "      <th>Silver</th>\n",
       "    </tr>\n",
       "    <tr>\n",
       "      <th>Purchased_ABC_product</th>\n",
       "      <th></th>\n",
       "      <th></th>\n",
       "      <th></th>\n",
       "    </tr>\n",
       "  </thead>\n",
       "  <tbody>\n",
       "    <tr>\n",
       "      <th>0</th>\n",
       "      <td>10113</td>\n",
       "      <td>826</td>\n",
       "      <td>4366</td>\n",
       "    </tr>\n",
       "    <tr>\n",
       "      <th>1</th>\n",
       "      <td>5014</td>\n",
       "      <td>4705</td>\n",
       "      <td>5805</td>\n",
       "    </tr>\n",
       "  </tbody>\n",
       "</table>\n",
       "</div>"
      ],
      "text/plain": [
       "Rating                 Bronze  Gold  Silver\n",
       "Purchased_ABC_product                      \n",
       "0                       10113   826    4366\n",
       "1                        5014  4705    5805"
      ]
     },
     "execution_count": 41,
     "metadata": {},
     "output_type": "execute_result"
    }
   ],
   "source": [
    "pd.crosstab(x.Purchased_ABC_product,x.Rating)  ## here we have to put a croddtab based on purchased abc products as well as rating wise"
   ]
  },
  {
   "cell_type": "code",
   "execution_count": 42,
   "metadata": {
    "ExecuteTime": {
     "end_time": "2021-12-15T12:15:58.366364Z",
     "start_time": "2021-12-15T12:15:58.324334Z"
    }
   },
   "outputs": [
    {
     "data": {
      "text/html": [
       "<div>\n",
       "<style scoped>\n",
       "    .dataframe tbody tr th:only-of-type {\n",
       "        vertical-align: middle;\n",
       "    }\n",
       "\n",
       "    .dataframe tbody tr th {\n",
       "        vertical-align: top;\n",
       "    }\n",
       "\n",
       "    .dataframe thead th {\n",
       "        text-align: right;\n",
       "    }\n",
       "</style>\n",
       "<table border=\"1\" class=\"dataframe\">\n",
       "  <thead>\n",
       "    <tr style=\"text-align: right;\">\n",
       "      <th>Category</th>\n",
       "      <th>C1</th>\n",
       "      <th>C2</th>\n",
       "      <th>C3</th>\n",
       "      <th>C4</th>\n",
       "      <th>C5</th>\n",
       "    </tr>\n",
       "    <tr>\n",
       "      <th>Purchased_ABC_product</th>\n",
       "      <th></th>\n",
       "      <th></th>\n",
       "      <th></th>\n",
       "      <th></th>\n",
       "      <th></th>\n",
       "    </tr>\n",
       "  </thead>\n",
       "  <tbody>\n",
       "    <tr>\n",
       "      <th>0</th>\n",
       "      <td>9026</td>\n",
       "      <td>892</td>\n",
       "      <td>3675</td>\n",
       "      <td>1490</td>\n",
       "      <td>222</td>\n",
       "    </tr>\n",
       "    <tr>\n",
       "      <th>1</th>\n",
       "      <td>5908</td>\n",
       "      <td>3139</td>\n",
       "      <td>3032</td>\n",
       "      <td>674</td>\n",
       "      <td>2771</td>\n",
       "    </tr>\n",
       "  </tbody>\n",
       "</table>\n",
       "</div>"
      ],
      "text/plain": [
       "Category                 C1    C2    C3    C4    C5\n",
       "Purchased_ABC_product                              \n",
       "0                      9026   892  3675  1490   222\n",
       "1                      5908  3139  3032   674  2771"
      ]
     },
     "execution_count": 42,
     "metadata": {},
     "output_type": "execute_result"
    }
   ],
   "source": [
    "pd.crosstab(x.Purchased_ABC_product,x.Category)  ## here we have to make the crosstab based on category as well as purchased category"
   ]
  },
  {
   "cell_type": "code",
   "execution_count": 44,
   "metadata": {
    "ExecuteTime": {
     "end_time": "2021-12-15T12:17:44.753286Z",
     "start_time": "2021-12-15T12:17:44.370484Z"
    }
   },
   "outputs": [
    {
     "data": {
      "text/plain": [
       "<matplotlib.axes._subplots.AxesSubplot at 0x1da82f6d700>"
      ]
     },
     "execution_count": 44,
     "metadata": {},
     "output_type": "execute_result"
    },
    {
     "data": {
      "image/png": "[encoded data removed]",
      "text/plain": [
       "<Figure size 432x288 with 1 Axes>"
      ]
     },
     "metadata": {
      "needs_background": "light"
     },
     "output_type": "display_data"
    }
   ],
   "source": [
    "pd.crosstab(x.Purchased_ABC_product,x.Rating).plot(kind='bar')### here draw bar plot regarding rating wise with purchased category"
   ]
  },
  {
   "cell_type": "code",
   "execution_count": 45,
   "metadata": {
    "ExecuteTime": {
     "end_time": "2021-12-15T12:23:49.460938Z",
     "start_time": "2021-12-15T12:23:49.065623Z"
    }
   },
   "outputs": [
    {
     "data": {
      "text/plain": [
       "<matplotlib.axes._subplots.AxesSubplot at 0x1da82deb670>"
      ]
     },
     "execution_count": 45,
     "metadata": {},
     "output_type": "execute_result"
    },
    {
     "data": {
      "image/png": "[encoded data removed]",
      "text/plain": [
       "<Figure size 432x288 with 1 Axes>"
      ]
     },
     "metadata": {
      "needs_background": "light"
     },
     "output_type": "display_data"
    }
   ],
   "source": [
    "pd.crosstab(x.Purchased_ABC_product,x.Category).plot(kind='bar') ### here draw bar plot regarding category  wise with purchased category"
   ]
  },
  {
   "cell_type": "code",
   "execution_count": 54,
   "metadata": {
    "ExecuteTime": {
     "end_time": "2021-12-15T12:27:08.158778Z",
     "start_time": "2021-12-15T12:27:08.147765Z"
    }
   },
   "outputs": [],
   "source": [
    "corr=x.corr()### here we nedd to find out correlations between numerical columns"
   ]
  },
  {
   "cell_type": "code",
   "execution_count": 55,
   "metadata": {
    "ExecuteTime": {
     "end_time": "2021-12-15T12:28:02.871701Z",
     "start_time": "2021-12-15T12:28:02.554307Z"
    }
   },
   "outputs": [
    {
     "data": {
      "text/plain": [
       "<matplotlib.axes._subplots.AxesSubplot at 0x1da85be1fd0>"
      ]
     },
     "execution_count": 55,
     "metadata": {},
     "output_type": "execute_result"
    },
    {
     "data": {
      "image/png": "[encoded data removed]",
      "text/plain": [
       "<Figure size 432x288 with 2 Axes>"
      ]
     },
     "metadata": {
      "needs_background": "light"
     },
     "output_type": "display_data"
    }
   ],
   "source": [
    "sns.heatmap(corr,xticklabels=corr.columns,yticklabels=corr.columns,annot=True)## draw heatmap based on correlations"
   ]
  },
  {
   "cell_type": "code",
   "execution_count": 57,
   "metadata": {
    "ExecuteTime": {
     "end_time": "2021-12-15T12:29:14.714445Z",
     "start_time": "2021-12-15T12:29:14.077930Z"
    }
   },
   "outputs": [
    {
     "data": {
      "text/plain": [
       "<matplotlib.axes._subplots.AxesSubplot at 0x1da85bdb1f0>"
      ]
     },
     "execution_count": 57,
     "metadata": {},
     "output_type": "execute_result"
    },
    {
     "data": {
      "image/png": "[encoded data removed]",
      "text/plain": [
       "<Figure size 432x288 with 1 Axes>"
      ]
     },
     "metadata": {
      "needs_background": "light"
     },
     "output_type": "display_data"
    }
   ],
   "source": [
    "pd.crosstab(x.Purchased_ABC_product,x.Category).plot(kind='hist')"
   ]
  },
  {
   "cell_type": "code",
   "execution_count": 59,
   "metadata": {
    "ExecuteTime": {
     "end_time": "2021-12-15T12:30:24.847770Z",
     "start_time": "2021-12-15T12:30:24.209307Z"
    }
   },
   "outputs": [
    {
     "data": {
      "text/plain": [
       "<matplotlib.axes._subplots.AxesSubplot at 0x1da83b06df0>"
      ]
     },
     "execution_count": 59,
     "metadata": {},
     "output_type": "execute_result"
    },
    {
     "data": {
      "image/png": "[encoded data removed]",
      "text/plain": [
       "<Figure size 432x288 with 1 Axes>"
      ]
     },
     "metadata": {
      "needs_background": "light"
     },
     "output_type": "display_data"
    }
   ],
   "source": [
    "pd.crosstab(x.Purchased_ABC_product,x.Rating).plot(kind='hist')"
   ]
  },
  {
   "cell_type": "code",
   "execution_count": 64,
   "metadata": {
    "ExecuteTime": {
     "end_time": "2021-12-15T12:34:06.978558Z",
     "start_time": "2021-12-15T12:34:06.521923Z"
    }
   },
   "outputs": [
    {
     "data": {
      "text/plain": [
       "<matplotlib.axes._subplots.AxesSubplot at 0x1da871673a0>"
      ]
     },
     "execution_count": 64,
     "metadata": {},
     "output_type": "execute_result"
    },
    {
     "data": {
      "image/png": "[encoded data removed]",
      "text/plain": [
       "<Figure size 432x288 with 1 Axes>"
      ]
     },
     "metadata": {
      "needs_background": "light"
     },
     "output_type": "display_data"
    }
   ],
   "source": [
    "sns.countplot(x='Rating',data=x,palette='hls')"
   ]
  },
  {
   "cell_type": "code",
   "execution_count": 66,
   "metadata": {
    "ExecuteTime": {
     "end_time": "2021-12-15T12:36:59.911074Z",
     "start_time": "2021-12-15T12:36:59.661447Z"
    }
   },
   "outputs": [
    {
     "data": {
      "text/plain": [
       "<matplotlib.axes._subplots.AxesSubplot at 0x1da860c1760>"
      ]
     },
     "execution_count": 66,
     "metadata": {},
     "output_type": "execute_result"
    },
    {
     "data": {
      "image/png": "[encoded data removed]",
      "text/plain": [
       "<Figure size 432x288 with 1 Axes>"
      ]
     },
     "metadata": {
      "needs_background": "light"
     },
     "output_type": "display_data"
    }
   ],
   "source": [
    "sns.countplot(x=\"Category\",data=x,palette=\"hls\") "
   ]
  },
  {
   "cell_type": "code",
   "execution_count": 67,
   "metadata": {
    "ExecuteTime": {
     "end_time": "2021-12-15T12:37:56.033368Z",
     "start_time": "2021-12-15T12:37:55.711120Z"
    }
   },
   "outputs": [
    {
     "data": {
      "text/plain": [
       "<matplotlib.axes._subplots.AxesSubplot at 0x1da860bd100>"
      ]
     },
     "execution_count": 67,
     "metadata": {},
     "output_type": "execute_result"
    },
    {
     "data": {
      "image/png": "[encoded data removed]",
      "text/plain": [
       "<Figure size 432x288 with 1 Axes>"
      ]
     },
     "metadata": {
      "needs_background": "light"
     },
     "output_type": "display_data"
    }
   ],
   "source": [
    "sns.countplot(x=\"Group\",data=x,palette=\"hls\") "
   ]
  },
  {
   "cell_type": "code",
   "execution_count": 69,
   "metadata": {
    "ExecuteTime": {
     "end_time": "2021-12-15T12:39:20.362836Z",
     "start_time": "2021-12-15T12:39:20.336820Z"
    }
   },
   "outputs": [
    {
     "data": {
      "text/plain": [
       "Var1                     0\n",
       "Var2                     0\n",
       "Group                    0\n",
       "Category                 0\n",
       "Rating                   0\n",
       "Purchased_ABC_product    0\n",
       "dtype: int64"
      ]
     },
     "execution_count": 69,
     "metadata": {},
     "output_type": "execute_result"
    }
   ],
   "source": [
    "x.isnull().sum()"
   ]
  },
  {
   "cell_type": "code",
   "execution_count": 71,
   "metadata": {
    "ExecuteTime": {
     "end_time": "2021-12-15T12:43:11.139393Z",
     "start_time": "2021-12-15T12:43:10.329462Z"
    }
   },
   "outputs": [],
   "source": [
    "from sklearn.linear_model import LogisticRegression  ### Logistics Regressions Analysis\n",
    "#from sklearn.model_selection import train_test_split # train and test \n",
    "from sklearn import metrics\n",
    "#from sklearn import preprocessing\n",
    "from sklearn.metrics import classification_report  "
   ]
  },
  {
   "cell_type": "code",
   "execution_count": 73,
   "metadata": {
    "ExecuteTime": {
     "end_time": "2021-12-15T12:43:46.707210Z",
     "start_time": "2021-12-15T12:43:46.698203Z"
    }
   },
   "outputs": [
    {
     "data": {
      "text/plain": [
       "(30829, 6)"
      ]
     },
     "execution_count": 73,
     "metadata": {},
     "output_type": "execute_result"
    }
   ],
   "source": [
    "from sklearn.linear_model import LogisticRegression\n",
    "x.shape  "
   ]
  },
  {
   "cell_type": "code",
   "execution_count": 88,
   "metadata": {
    "ExecuteTime": {
     "end_time": "2021-12-15T13:10:20.690827Z",
     "start_time": "2021-12-15T13:10:20.668809Z"
    }
   },
   "outputs": [],
   "source": [
    "df1 = pd.get_dummies(x, columns=['Group'])## converting the categorical into numerical using dummy variable matrix concept"
   ]
  },
  {
   "cell_type": "code",
   "execution_count": 89,
   "metadata": {
    "ExecuteTime": {
     "end_time": "2021-12-15T13:10:23.445272Z",
     "start_time": "2021-12-15T13:10:23.411248Z"
    }
   },
   "outputs": [
    {
     "data": {
      "text/html": [
       "<div>\n",
       "<style scoped>\n",
       "    .dataframe tbody tr th:only-of-type {\n",
       "        vertical-align: middle;\n",
       "    }\n",
       "\n",
       "    .dataframe tbody tr th {\n",
       "        vertical-align: top;\n",
       "    }\n",
       "\n",
       "    .dataframe thead th {\n",
       "        text-align: right;\n",
       "    }\n",
       "</style>\n",
       "<table border=\"1\" class=\"dataframe\">\n",
       "  <thead>\n",
       "    <tr style=\"text-align: right;\">\n",
       "      <th></th>\n",
       "      <th>Var1</th>\n",
       "      <th>Var2</th>\n",
       "      <th>Category</th>\n",
       "      <th>Rating</th>\n",
       "      <th>Purchased_ABC_product</th>\n",
       "      <th>Group_G1</th>\n",
       "      <th>Group_G2</th>\n",
       "      <th>Group_G3</th>\n",
       "      <th>Group_G4</th>\n",
       "      <th>Group_G5</th>\n",
       "      <th>Group_G6</th>\n",
       "      <th>Group_G7</th>\n",
       "      <th>Group_G8</th>\n",
       "    </tr>\n",
       "  </thead>\n",
       "  <tbody>\n",
       "    <tr>\n",
       "      <th>0</th>\n",
       "      <td>41.534</td>\n",
       "      <td>12.123</td>\n",
       "      <td>C1</td>\n",
       "      <td>Bronze</td>\n",
       "      <td>0</td>\n",
       "      <td>1</td>\n",
       "      <td>0</td>\n",
       "      <td>0</td>\n",
       "      <td>0</td>\n",
       "      <td>0</td>\n",
       "      <td>0</td>\n",
       "      <td>0</td>\n",
       "      <td>0</td>\n",
       "    </tr>\n",
       "    <tr>\n",
       "      <th>1</th>\n",
       "      <td>9.445</td>\n",
       "      <td>0.256</td>\n",
       "      <td>C1</td>\n",
       "      <td>Bronze</td>\n",
       "      <td>0</td>\n",
       "      <td>1</td>\n",
       "      <td>0</td>\n",
       "      <td>0</td>\n",
       "      <td>0</td>\n",
       "      <td>0</td>\n",
       "      <td>0</td>\n",
       "      <td>0</td>\n",
       "      <td>0</td>\n",
       "    </tr>\n",
       "    <tr>\n",
       "      <th>2</th>\n",
       "      <td>37.599</td>\n",
       "      <td>3.199</td>\n",
       "      <td>C2</td>\n",
       "      <td>Gold</td>\n",
       "      <td>0</td>\n",
       "      <td>1</td>\n",
       "      <td>0</td>\n",
       "      <td>0</td>\n",
       "      <td>0</td>\n",
       "      <td>0</td>\n",
       "      <td>0</td>\n",
       "      <td>0</td>\n",
       "      <td>0</td>\n",
       "    </tr>\n",
       "    <tr>\n",
       "      <th>3</th>\n",
       "      <td>81.514</td>\n",
       "      <td>1.645</td>\n",
       "      <td>C1</td>\n",
       "      <td>Silver</td>\n",
       "      <td>0</td>\n",
       "      <td>1</td>\n",
       "      <td>0</td>\n",
       "      <td>0</td>\n",
       "      <td>0</td>\n",
       "      <td>0</td>\n",
       "      <td>0</td>\n",
       "      <td>0</td>\n",
       "      <td>0</td>\n",
       "    </tr>\n",
       "    <tr>\n",
       "      <th>4</th>\n",
       "      <td>46.805</td>\n",
       "      <td>1.706</td>\n",
       "      <td>C1</td>\n",
       "      <td>Silver</td>\n",
       "      <td>0</td>\n",
       "      <td>1</td>\n",
       "      <td>0</td>\n",
       "      <td>0</td>\n",
       "      <td>0</td>\n",
       "      <td>0</td>\n",
       "      <td>0</td>\n",
       "      <td>0</td>\n",
       "      <td>0</td>\n",
       "    </tr>\n",
       "    <tr>\n",
       "      <th>...</th>\n",
       "      <td>...</td>\n",
       "      <td>...</td>\n",
       "      <td>...</td>\n",
       "      <td>...</td>\n",
       "      <td>...</td>\n",
       "      <td>...</td>\n",
       "      <td>...</td>\n",
       "      <td>...</td>\n",
       "      <td>...</td>\n",
       "      <td>...</td>\n",
       "      <td>...</td>\n",
       "      <td>...</td>\n",
       "      <td>...</td>\n",
       "    </tr>\n",
       "    <tr>\n",
       "      <th>30824</th>\n",
       "      <td>12.094</td>\n",
       "      <td>0.899</td>\n",
       "      <td>C3</td>\n",
       "      <td>Bronze</td>\n",
       "      <td>1</td>\n",
       "      <td>0</td>\n",
       "      <td>0</td>\n",
       "      <td>0</td>\n",
       "      <td>0</td>\n",
       "      <td>1</td>\n",
       "      <td>0</td>\n",
       "      <td>0</td>\n",
       "      <td>0</td>\n",
       "    </tr>\n",
       "    <tr>\n",
       "      <th>30825</th>\n",
       "      <td>43.214</td>\n",
       "      <td>6.484</td>\n",
       "      <td>C1</td>\n",
       "      <td>Bronze</td>\n",
       "      <td>1</td>\n",
       "      <td>0</td>\n",
       "      <td>0</td>\n",
       "      <td>0</td>\n",
       "      <td>0</td>\n",
       "      <td>1</td>\n",
       "      <td>0</td>\n",
       "      <td>0</td>\n",
       "      <td>0</td>\n",
       "    </tr>\n",
       "    <tr>\n",
       "      <th>30826</th>\n",
       "      <td>20.902</td>\n",
       "      <td>6.159</td>\n",
       "      <td>C1</td>\n",
       "      <td>Bronze</td>\n",
       "      <td>1</td>\n",
       "      <td>0</td>\n",
       "      <td>0</td>\n",
       "      <td>0</td>\n",
       "      <td>0</td>\n",
       "      <td>1</td>\n",
       "      <td>0</td>\n",
       "      <td>0</td>\n",
       "      <td>0</td>\n",
       "    </tr>\n",
       "    <tr>\n",
       "      <th>30827</th>\n",
       "      <td>11.443</td>\n",
       "      <td>0.000</td>\n",
       "      <td>C3</td>\n",
       "      <td>Bronze</td>\n",
       "      <td>0</td>\n",
       "      <td>0</td>\n",
       "      <td>0</td>\n",
       "      <td>0</td>\n",
       "      <td>0</td>\n",
       "      <td>1</td>\n",
       "      <td>0</td>\n",
       "      <td>0</td>\n",
       "      <td>0</td>\n",
       "    </tr>\n",
       "    <tr>\n",
       "      <th>30828</th>\n",
       "      <td>18.485</td>\n",
       "      <td>0.164</td>\n",
       "      <td>C4</td>\n",
       "      <td>Bronze</td>\n",
       "      <td>0</td>\n",
       "      <td>0</td>\n",
       "      <td>0</td>\n",
       "      <td>0</td>\n",
       "      <td>0</td>\n",
       "      <td>1</td>\n",
       "      <td>0</td>\n",
       "      <td>0</td>\n",
       "      <td>0</td>\n",
       "    </tr>\n",
       "  </tbody>\n",
       "</table>\n",
       "<p>30829 rows × 13 columns</p>\n",
       "</div>"
      ],
      "text/plain": [
       "         Var1    Var2 Category  Rating  Purchased_ABC_product  Group_G1  \\\n",
       "0      41.534  12.123       C1  Bronze                      0         1   \n",
       "1       9.445   0.256       C1  Bronze                      0         1   \n",
       "2      37.599   3.199       C2    Gold                      0         1   \n",
       "3      81.514   1.645       C1  Silver                      0         1   \n",
       "4      46.805   1.706       C1  Silver                      0         1   \n",
       "...       ...     ...      ...     ...                    ...       ...   \n",
       "30824  12.094   0.899       C3  Bronze                      1         0   \n",
       "30825  43.214   6.484       C1  Bronze                      1         0   \n",
       "30826  20.902   6.159       C1  Bronze                      1         0   \n",
       "30827  11.443   0.000       C3  Bronze                      0         0   \n",
       "30828  18.485   0.164       C4  Bronze                      0         0   \n",
       "\n",
       "       Group_G2  Group_G3  Group_G4  Group_G5  Group_G6  Group_G7  Group_G8  \n",
       "0             0         0         0         0         0         0         0  \n",
       "1             0         0         0         0         0         0         0  \n",
       "2             0         0         0         0         0         0         0  \n",
       "3             0         0         0         0         0         0         0  \n",
       "4             0         0         0         0         0         0         0  \n",
       "...         ...       ...       ...       ...       ...       ...       ...  \n",
       "30824         0         0         0         1         0         0         0  \n",
       "30825         0         0         0         1         0         0         0  \n",
       "30826         0         0         0         1         0         0         0  \n",
       "30827         0         0         0         1         0         0         0  \n",
       "30828         0         0         0         1         0         0         0  \n",
       "\n",
       "[30829 rows x 13 columns]"
      ]
     },
     "execution_count": 89,
     "metadata": {},
     "output_type": "execute_result"
    }
   ],
   "source": [
    "df1"
   ]
  },
  {
   "cell_type": "code",
   "execution_count": 90,
   "metadata": {
    "ExecuteTime": {
     "end_time": "2021-12-15T13:10:33.262344Z",
     "start_time": "2021-12-15T13:10:33.239329Z"
    }
   },
   "outputs": [],
   "source": [
    "df2 = pd.get_dummies(x, columns=['Category'])"
   ]
  },
  {
   "cell_type": "code",
   "execution_count": 91,
   "metadata": {
    "ExecuteTime": {
     "end_time": "2021-12-15T13:10:36.539457Z",
     "start_time": "2021-12-15T13:10:36.508436Z"
    }
   },
   "outputs": [
    {
     "data": {
      "text/html": [
       "<div>\n",
       "<style scoped>\n",
       "    .dataframe tbody tr th:only-of-type {\n",
       "        vertical-align: middle;\n",
       "    }\n",
       "\n",
       "    .dataframe tbody tr th {\n",
       "        vertical-align: top;\n",
       "    }\n",
       "\n",
       "    .dataframe thead th {\n",
       "        text-align: right;\n",
       "    }\n",
       "</style>\n",
       "<table border=\"1\" class=\"dataframe\">\n",
       "  <thead>\n",
       "    <tr style=\"text-align: right;\">\n",
       "      <th></th>\n",
       "      <th>Var1</th>\n",
       "      <th>Var2</th>\n",
       "      <th>Group</th>\n",
       "      <th>Rating</th>\n",
       "      <th>Purchased_ABC_product</th>\n",
       "      <th>Category_C1</th>\n",
       "      <th>Category_C2</th>\n",
       "      <th>Category_C3</th>\n",
       "      <th>Category_C4</th>\n",
       "      <th>Category_C5</th>\n",
       "    </tr>\n",
       "  </thead>\n",
       "  <tbody>\n",
       "    <tr>\n",
       "      <th>0</th>\n",
       "      <td>41.534</td>\n",
       "      <td>12.123</td>\n",
       "      <td>G1</td>\n",
       "      <td>Bronze</td>\n",
       "      <td>0</td>\n",
       "      <td>1</td>\n",
       "      <td>0</td>\n",
       "      <td>0</td>\n",
       "      <td>0</td>\n",
       "      <td>0</td>\n",
       "    </tr>\n",
       "    <tr>\n",
       "      <th>1</th>\n",
       "      <td>9.445</td>\n",
       "      <td>0.256</td>\n",
       "      <td>G1</td>\n",
       "      <td>Bronze</td>\n",
       "      <td>0</td>\n",
       "      <td>1</td>\n",
       "      <td>0</td>\n",
       "      <td>0</td>\n",
       "      <td>0</td>\n",
       "      <td>0</td>\n",
       "    </tr>\n",
       "    <tr>\n",
       "      <th>2</th>\n",
       "      <td>37.599</td>\n",
       "      <td>3.199</td>\n",
       "      <td>G1</td>\n",
       "      <td>Gold</td>\n",
       "      <td>0</td>\n",
       "      <td>0</td>\n",
       "      <td>1</td>\n",
       "      <td>0</td>\n",
       "      <td>0</td>\n",
       "      <td>0</td>\n",
       "    </tr>\n",
       "    <tr>\n",
       "      <th>3</th>\n",
       "      <td>81.514</td>\n",
       "      <td>1.645</td>\n",
       "      <td>G1</td>\n",
       "      <td>Silver</td>\n",
       "      <td>0</td>\n",
       "      <td>1</td>\n",
       "      <td>0</td>\n",
       "      <td>0</td>\n",
       "      <td>0</td>\n",
       "      <td>0</td>\n",
       "    </tr>\n",
       "    <tr>\n",
       "      <th>4</th>\n",
       "      <td>46.805</td>\n",
       "      <td>1.706</td>\n",
       "      <td>G1</td>\n",
       "      <td>Silver</td>\n",
       "      <td>0</td>\n",
       "      <td>1</td>\n",
       "      <td>0</td>\n",
       "      <td>0</td>\n",
       "      <td>0</td>\n",
       "      <td>0</td>\n",
       "    </tr>\n",
       "    <tr>\n",
       "      <th>...</th>\n",
       "      <td>...</td>\n",
       "      <td>...</td>\n",
       "      <td>...</td>\n",
       "      <td>...</td>\n",
       "      <td>...</td>\n",
       "      <td>...</td>\n",
       "      <td>...</td>\n",
       "      <td>...</td>\n",
       "      <td>...</td>\n",
       "      <td>...</td>\n",
       "    </tr>\n",
       "    <tr>\n",
       "      <th>30824</th>\n",
       "      <td>12.094</td>\n",
       "      <td>0.899</td>\n",
       "      <td>G5</td>\n",
       "      <td>Bronze</td>\n",
       "      <td>1</td>\n",
       "      <td>0</td>\n",
       "      <td>0</td>\n",
       "      <td>1</td>\n",
       "      <td>0</td>\n",
       "      <td>0</td>\n",
       "    </tr>\n",
       "    <tr>\n",
       "      <th>30825</th>\n",
       "      <td>43.214</td>\n",
       "      <td>6.484</td>\n",
       "      <td>G5</td>\n",
       "      <td>Bronze</td>\n",
       "      <td>1</td>\n",
       "      <td>1</td>\n",
       "      <td>0</td>\n",
       "      <td>0</td>\n",
       "      <td>0</td>\n",
       "      <td>0</td>\n",
       "    </tr>\n",
       "    <tr>\n",
       "      <th>30826</th>\n",
       "      <td>20.902</td>\n",
       "      <td>6.159</td>\n",
       "      <td>G5</td>\n",
       "      <td>Bronze</td>\n",
       "      <td>1</td>\n",
       "      <td>1</td>\n",
       "      <td>0</td>\n",
       "      <td>0</td>\n",
       "      <td>0</td>\n",
       "      <td>0</td>\n",
       "    </tr>\n",
       "    <tr>\n",
       "      <th>30827</th>\n",
       "      <td>11.443</td>\n",
       "      <td>0.000</td>\n",
       "      <td>G5</td>\n",
       "      <td>Bronze</td>\n",
       "      <td>0</td>\n",
       "      <td>0</td>\n",
       "      <td>0</td>\n",
       "      <td>1</td>\n",
       "      <td>0</td>\n",
       "      <td>0</td>\n",
       "    </tr>\n",
       "    <tr>\n",
       "      <th>30828</th>\n",
       "      <td>18.485</td>\n",
       "      <td>0.164</td>\n",
       "      <td>G5</td>\n",
       "      <td>Bronze</td>\n",
       "      <td>0</td>\n",
       "      <td>0</td>\n",
       "      <td>0</td>\n",
       "      <td>0</td>\n",
       "      <td>1</td>\n",
       "      <td>0</td>\n",
       "    </tr>\n",
       "  </tbody>\n",
       "</table>\n",
       "<p>30829 rows × 10 columns</p>\n",
       "</div>"
      ],
      "text/plain": [
       "         Var1    Var2 Group  Rating  Purchased_ABC_product  Category_C1  \\\n",
       "0      41.534  12.123    G1  Bronze                      0            1   \n",
       "1       9.445   0.256    G1  Bronze                      0            1   \n",
       "2      37.599   3.199    G1    Gold                      0            0   \n",
       "3      81.514   1.645    G1  Silver                      0            1   \n",
       "4      46.805   1.706    G1  Silver                      0            1   \n",
       "...       ...     ...   ...     ...                    ...          ...   \n",
       "30824  12.094   0.899    G5  Bronze                      1            0   \n",
       "30825  43.214   6.484    G5  Bronze                      1            1   \n",
       "30826  20.902   6.159    G5  Bronze                      1            1   \n",
       "30827  11.443   0.000    G5  Bronze                      0            0   \n",
       "30828  18.485   0.164    G5  Bronze                      0            0   \n",
       "\n",
       "       Category_C2  Category_C3  Category_C4  Category_C5  \n",
       "0                0            0            0            0  \n",
       "1                0            0            0            0  \n",
       "2                1            0            0            0  \n",
       "3                0            0            0            0  \n",
       "4                0            0            0            0  \n",
       "...            ...          ...          ...          ...  \n",
       "30824            0            1            0            0  \n",
       "30825            0            0            0            0  \n",
       "30826            0            0            0            0  \n",
       "30827            0            1            0            0  \n",
       "30828            0            0            1            0  \n",
       "\n",
       "[30829 rows x 10 columns]"
      ]
     },
     "execution_count": 91,
     "metadata": {},
     "output_type": "execute_result"
    }
   ],
   "source": [
    "df2"
   ]
  },
  {
   "cell_type": "code",
   "execution_count": 92,
   "metadata": {
    "ExecuteTime": {
     "end_time": "2021-12-15T13:11:48.626954Z",
     "start_time": "2021-12-15T13:11:48.601936Z"
    }
   },
   "outputs": [],
   "source": [
    "df3=pd.get_dummies(x,columns=['Rating'])"
   ]
  },
  {
   "cell_type": "code",
   "execution_count": 93,
   "metadata": {
    "ExecuteTime": {
     "end_time": "2021-12-15T13:11:51.037066Z",
     "start_time": "2021-12-15T13:11:51.009049Z"
    }
   },
   "outputs": [
    {
     "data": {
      "text/html": [
       "<div>\n",
       "<style scoped>\n",
       "    .dataframe tbody tr th:only-of-type {\n",
       "        vertical-align: middle;\n",
       "    }\n",
       "\n",
       "    .dataframe tbody tr th {\n",
       "        vertical-align: top;\n",
       "    }\n",
       "\n",
       "    .dataframe thead th {\n",
       "        text-align: right;\n",
       "    }\n",
       "</style>\n",
       "<table border=\"1\" class=\"dataframe\">\n",
       "  <thead>\n",
       "    <tr style=\"text-align: right;\">\n",
       "      <th></th>\n",
       "      <th>Var1</th>\n",
       "      <th>Var2</th>\n",
       "      <th>Group</th>\n",
       "      <th>Category</th>\n",
       "      <th>Purchased_ABC_product</th>\n",
       "      <th>Rating_Bronze</th>\n",
       "      <th>Rating_Gold</th>\n",
       "      <th>Rating_Silver</th>\n",
       "    </tr>\n",
       "  </thead>\n",
       "  <tbody>\n",
       "    <tr>\n",
       "      <th>0</th>\n",
       "      <td>41.534</td>\n",
       "      <td>12.123</td>\n",
       "      <td>G1</td>\n",
       "      <td>C1</td>\n",
       "      <td>0</td>\n",
       "      <td>1</td>\n",
       "      <td>0</td>\n",
       "      <td>0</td>\n",
       "    </tr>\n",
       "    <tr>\n",
       "      <th>1</th>\n",
       "      <td>9.445</td>\n",
       "      <td>0.256</td>\n",
       "      <td>G1</td>\n",
       "      <td>C1</td>\n",
       "      <td>0</td>\n",
       "      <td>1</td>\n",
       "      <td>0</td>\n",
       "      <td>0</td>\n",
       "    </tr>\n",
       "    <tr>\n",
       "      <th>2</th>\n",
       "      <td>37.599</td>\n",
       "      <td>3.199</td>\n",
       "      <td>G1</td>\n",
       "      <td>C2</td>\n",
       "      <td>0</td>\n",
       "      <td>0</td>\n",
       "      <td>1</td>\n",
       "      <td>0</td>\n",
       "    </tr>\n",
       "    <tr>\n",
       "      <th>3</th>\n",
       "      <td>81.514</td>\n",
       "      <td>1.645</td>\n",
       "      <td>G1</td>\n",
       "      <td>C1</td>\n",
       "      <td>0</td>\n",
       "      <td>0</td>\n",
       "      <td>0</td>\n",
       "      <td>1</td>\n",
       "    </tr>\n",
       "    <tr>\n",
       "      <th>4</th>\n",
       "      <td>46.805</td>\n",
       "      <td>1.706</td>\n",
       "      <td>G1</td>\n",
       "      <td>C1</td>\n",
       "      <td>0</td>\n",
       "      <td>0</td>\n",
       "      <td>0</td>\n",
       "      <td>1</td>\n",
       "    </tr>\n",
       "    <tr>\n",
       "      <th>...</th>\n",
       "      <td>...</td>\n",
       "      <td>...</td>\n",
       "      <td>...</td>\n",
       "      <td>...</td>\n",
       "      <td>...</td>\n",
       "      <td>...</td>\n",
       "      <td>...</td>\n",
       "      <td>...</td>\n",
       "    </tr>\n",
       "    <tr>\n",
       "      <th>30824</th>\n",
       "      <td>12.094</td>\n",
       "      <td>0.899</td>\n",
       "      <td>G5</td>\n",
       "      <td>C3</td>\n",
       "      <td>1</td>\n",
       "      <td>1</td>\n",
       "      <td>0</td>\n",
       "      <td>0</td>\n",
       "    </tr>\n",
       "    <tr>\n",
       "      <th>30825</th>\n",
       "      <td>43.214</td>\n",
       "      <td>6.484</td>\n",
       "      <td>G5</td>\n",
       "      <td>C1</td>\n",
       "      <td>1</td>\n",
       "      <td>1</td>\n",
       "      <td>0</td>\n",
       "      <td>0</td>\n",
       "    </tr>\n",
       "    <tr>\n",
       "      <th>30826</th>\n",
       "      <td>20.902</td>\n",
       "      <td>6.159</td>\n",
       "      <td>G5</td>\n",
       "      <td>C1</td>\n",
       "      <td>1</td>\n",
       "      <td>1</td>\n",
       "      <td>0</td>\n",
       "      <td>0</td>\n",
       "    </tr>\n",
       "    <tr>\n",
       "      <th>30827</th>\n",
       "      <td>11.443</td>\n",
       "      <td>0.000</td>\n",
       "      <td>G5</td>\n",
       "      <td>C3</td>\n",
       "      <td>0</td>\n",
       "      <td>1</td>\n",
       "      <td>0</td>\n",
       "      <td>0</td>\n",
       "    </tr>\n",
       "    <tr>\n",
       "      <th>30828</th>\n",
       "      <td>18.485</td>\n",
       "      <td>0.164</td>\n",
       "      <td>G5</td>\n",
       "      <td>C4</td>\n",
       "      <td>0</td>\n",
       "      <td>1</td>\n",
       "      <td>0</td>\n",
       "      <td>0</td>\n",
       "    </tr>\n",
       "  </tbody>\n",
       "</table>\n",
       "<p>30829 rows × 8 columns</p>\n",
       "</div>"
      ],
      "text/plain": [
       "         Var1    Var2 Group Category  Purchased_ABC_product  Rating_Bronze  \\\n",
       "0      41.534  12.123    G1       C1                      0              1   \n",
       "1       9.445   0.256    G1       C1                      0              1   \n",
       "2      37.599   3.199    G1       C2                      0              0   \n",
       "3      81.514   1.645    G1       C1                      0              0   \n",
       "4      46.805   1.706    G1       C1                      0              0   \n",
       "...       ...     ...   ...      ...                    ...            ...   \n",
       "30824  12.094   0.899    G5       C3                      1              1   \n",
       "30825  43.214   6.484    G5       C1                      1              1   \n",
       "30826  20.902   6.159    G5       C1                      1              1   \n",
       "30827  11.443   0.000    G5       C3                      0              1   \n",
       "30828  18.485   0.164    G5       C4                      0              1   \n",
       "\n",
       "       Rating_Gold  Rating_Silver  \n",
       "0                0              0  \n",
       "1                0              0  \n",
       "2                1              0  \n",
       "3                0              1  \n",
       "4                0              1  \n",
       "...            ...            ...  \n",
       "30824            0              0  \n",
       "30825            0              0  \n",
       "30826            0              0  \n",
       "30827            0              0  \n",
       "30828            0              0  \n",
       "\n",
       "[30829 rows x 8 columns]"
      ]
     },
     "execution_count": 93,
     "metadata": {},
     "output_type": "execute_result"
    }
   ],
   "source": [
    "df3"
   ]
  },
  {
   "cell_type": "code",
   "execution_count": 97,
   "metadata": {
    "ExecuteTime": {
     "end_time": "2021-12-15T13:19:40.742668Z",
     "start_time": "2021-12-15T13:19:40.514500Z"
    }
   },
   "outputs": [
    {
     "data": {
      "text/plain": [
       "LogisticRegression()"
      ]
     },
     "execution_count": 97,
     "metadata": {},
     "output_type": "execute_result"
    }
   ],
   "source": [
    "X = x.iloc[:,[0,1]]\n",
    "Y = x.iloc[:,5]\n",
    "classifier = LogisticRegression()\n",
    "classifier.fit(X,Y) "
   ]
  },
  {
   "cell_type": "code",
   "execution_count": 98,
   "metadata": {
    "ExecuteTime": {
     "end_time": "2021-12-15T13:19:54.959125Z",
     "start_time": "2021-12-15T13:19:54.951121Z"
    }
   },
   "outputs": [
    {
     "data": {
      "text/plain": [
       "array([[0.00140728, 0.38612278]])"
      ]
     },
     "execution_count": 98,
     "metadata": {},
     "output_type": "execute_result"
    }
   ],
   "source": [
    "classifier.coef_  # coefficients of features  "
   ]
  },
  {
   "cell_type": "code",
   "execution_count": 99,
   "metadata": {
    "ExecuteTime": {
     "end_time": "2021-12-15T13:20:05.326322Z",
     "start_time": "2021-12-15T13:20:05.310311Z"
    }
   },
   "outputs": [
    {
     "data": {
      "text/plain": [
       "array([[0.03027332, 0.96972668],\n",
       "       [0.76142896, 0.23857104],\n",
       "       [0.49613754, 0.50386246],\n",
       "       ...,\n",
       "       [0.24326234, 0.75673766],\n",
       "       [0.7784343 , 0.2215657 ],\n",
       "       [0.76554624, 0.23445376]])"
      ]
     },
     "execution_count": 99,
     "metadata": {},
     "output_type": "execute_result"
    }
   ],
   "source": [
    "classifier.predict_proba (X) # Probability values   "
   ]
  },
  {
   "cell_type": "code",
   "execution_count": 100,
   "metadata": {
    "ExecuteTime": {
     "end_time": "2021-12-15T13:20:55.934546Z",
     "start_time": "2021-12-15T13:20:55.893515Z"
    }
   },
   "outputs": [
    {
     "data": {
      "text/html": [
       "<div>\n",
       "<style scoped>\n",
       "    .dataframe tbody tr th:only-of-type {\n",
       "        vertical-align: middle;\n",
       "    }\n",
       "\n",
       "    .dataframe tbody tr th {\n",
       "        vertical-align: top;\n",
       "    }\n",
       "\n",
       "    .dataframe thead th {\n",
       "        text-align: right;\n",
       "    }\n",
       "</style>\n",
       "<table border=\"1\" class=\"dataframe\">\n",
       "  <thead>\n",
       "    <tr style=\"text-align: right;\">\n",
       "      <th></th>\n",
       "      <th>Var1</th>\n",
       "      <th>Var2</th>\n",
       "      <th>Group</th>\n",
       "      <th>Category</th>\n",
       "      <th>Rating</th>\n",
       "      <th>Purchased_ABC_product</th>\n",
       "      <th>y_pred</th>\n",
       "    </tr>\n",
       "  </thead>\n",
       "  <tbody>\n",
       "    <tr>\n",
       "      <th>0</th>\n",
       "      <td>41.534</td>\n",
       "      <td>12.123</td>\n",
       "      <td>G1</td>\n",
       "      <td>C1</td>\n",
       "      <td>Bronze</td>\n",
       "      <td>0</td>\n",
       "      <td>1</td>\n",
       "    </tr>\n",
       "    <tr>\n",
       "      <th>1</th>\n",
       "      <td>9.445</td>\n",
       "      <td>0.256</td>\n",
       "      <td>G1</td>\n",
       "      <td>C1</td>\n",
       "      <td>Bronze</td>\n",
       "      <td>0</td>\n",
       "      <td>0</td>\n",
       "    </tr>\n",
       "    <tr>\n",
       "      <th>2</th>\n",
       "      <td>37.599</td>\n",
       "      <td>3.199</td>\n",
       "      <td>G1</td>\n",
       "      <td>C2</td>\n",
       "      <td>Gold</td>\n",
       "      <td>0</td>\n",
       "      <td>1</td>\n",
       "    </tr>\n",
       "    <tr>\n",
       "      <th>3</th>\n",
       "      <td>81.514</td>\n",
       "      <td>1.645</td>\n",
       "      <td>G1</td>\n",
       "      <td>C1</td>\n",
       "      <td>Silver</td>\n",
       "      <td>0</td>\n",
       "      <td>0</td>\n",
       "    </tr>\n",
       "    <tr>\n",
       "      <th>4</th>\n",
       "      <td>46.805</td>\n",
       "      <td>1.706</td>\n",
       "      <td>G1</td>\n",
       "      <td>C1</td>\n",
       "      <td>Silver</td>\n",
       "      <td>0</td>\n",
       "      <td>0</td>\n",
       "    </tr>\n",
       "    <tr>\n",
       "      <th>...</th>\n",
       "      <td>...</td>\n",
       "      <td>...</td>\n",
       "      <td>...</td>\n",
       "      <td>...</td>\n",
       "      <td>...</td>\n",
       "      <td>...</td>\n",
       "      <td>...</td>\n",
       "    </tr>\n",
       "    <tr>\n",
       "      <th>30824</th>\n",
       "      <td>12.094</td>\n",
       "      <td>0.899</td>\n",
       "      <td>G5</td>\n",
       "      <td>C3</td>\n",
       "      <td>Bronze</td>\n",
       "      <td>1</td>\n",
       "      <td>0</td>\n",
       "    </tr>\n",
       "    <tr>\n",
       "      <th>30825</th>\n",
       "      <td>43.214</td>\n",
       "      <td>6.484</td>\n",
       "      <td>G5</td>\n",
       "      <td>C1</td>\n",
       "      <td>Bronze</td>\n",
       "      <td>1</td>\n",
       "      <td>1</td>\n",
       "    </tr>\n",
       "    <tr>\n",
       "      <th>30826</th>\n",
       "      <td>20.902</td>\n",
       "      <td>6.159</td>\n",
       "      <td>G5</td>\n",
       "      <td>C1</td>\n",
       "      <td>Bronze</td>\n",
       "      <td>1</td>\n",
       "      <td>1</td>\n",
       "    </tr>\n",
       "    <tr>\n",
       "      <th>30827</th>\n",
       "      <td>11.443</td>\n",
       "      <td>0.000</td>\n",
       "      <td>G5</td>\n",
       "      <td>C3</td>\n",
       "      <td>Bronze</td>\n",
       "      <td>0</td>\n",
       "      <td>0</td>\n",
       "    </tr>\n",
       "    <tr>\n",
       "      <th>30828</th>\n",
       "      <td>18.485</td>\n",
       "      <td>0.164</td>\n",
       "      <td>G5</td>\n",
       "      <td>C4</td>\n",
       "      <td>Bronze</td>\n",
       "      <td>0</td>\n",
       "      <td>0</td>\n",
       "    </tr>\n",
       "  </tbody>\n",
       "</table>\n",
       "<p>30829 rows × 7 columns</p>\n",
       "</div>"
      ],
      "text/plain": [
       "         Var1    Var2 Group Category  Rating  Purchased_ABC_product  y_pred\n",
       "0      41.534  12.123    G1       C1  Bronze                      0       1\n",
       "1       9.445   0.256    G1       C1  Bronze                      0       0\n",
       "2      37.599   3.199    G1       C2    Gold                      0       1\n",
       "3      81.514   1.645    G1       C1  Silver                      0       0\n",
       "4      46.805   1.706    G1       C1  Silver                      0       0\n",
       "...       ...     ...   ...      ...     ...                    ...     ...\n",
       "30824  12.094   0.899    G5       C3  Bronze                      1       0\n",
       "30825  43.214   6.484    G5       C1  Bronze                      1       1\n",
       "30826  20.902   6.159    G5       C1  Bronze                      1       1\n",
       "30827  11.443   0.000    G5       C3  Bronze                      0       0\n",
       "30828  18.485   0.164    G5       C4  Bronze                      0       0\n",
       "\n",
       "[30829 rows x 7 columns]"
      ]
     },
     "execution_count": 100,
     "metadata": {},
     "output_type": "execute_result"
    }
   ],
   "source": [
    "y_pred = classifier.predict(X)\n",
    "x[\"y_pred\"] = y_pred\n",
    "x  "
   ]
  },
  {
   "cell_type": "code",
   "execution_count": 102,
   "metadata": {
    "ExecuteTime": {
     "end_time": "2021-12-15T13:21:24.697540Z",
     "start_time": "2021-12-15T13:21:24.656500Z"
    }
   },
   "outputs": [
    {
     "data": {
      "text/html": [
       "<div>\n",
       "<style scoped>\n",
       "    .dataframe tbody tr th:only-of-type {\n",
       "        vertical-align: middle;\n",
       "    }\n",
       "\n",
       "    .dataframe tbody tr th {\n",
       "        vertical-align: top;\n",
       "    }\n",
       "\n",
       "    .dataframe thead th {\n",
       "        text-align: right;\n",
       "    }\n",
       "</style>\n",
       "<table border=\"1\" class=\"dataframe\">\n",
       "  <thead>\n",
       "    <tr style=\"text-align: right;\">\n",
       "      <th></th>\n",
       "      <th>Var1</th>\n",
       "      <th>Var2</th>\n",
       "      <th>Group</th>\n",
       "      <th>Category</th>\n",
       "      <th>Rating</th>\n",
       "      <th>Purchased_ABC_product</th>\n",
       "      <th>y_pred</th>\n",
       "      <th>0</th>\n",
       "      <th>1</th>\n",
       "    </tr>\n",
       "  </thead>\n",
       "  <tbody>\n",
       "    <tr>\n",
       "      <th>0</th>\n",
       "      <td>41.534</td>\n",
       "      <td>12.123</td>\n",
       "      <td>G1</td>\n",
       "      <td>C1</td>\n",
       "      <td>Bronze</td>\n",
       "      <td>0</td>\n",
       "      <td>1</td>\n",
       "      <td>0.030273</td>\n",
       "      <td>0.969727</td>\n",
       "    </tr>\n",
       "    <tr>\n",
       "      <th>1</th>\n",
       "      <td>9.445</td>\n",
       "      <td>0.256</td>\n",
       "      <td>G1</td>\n",
       "      <td>C1</td>\n",
       "      <td>Bronze</td>\n",
       "      <td>0</td>\n",
       "      <td>0</td>\n",
       "      <td>0.761429</td>\n",
       "      <td>0.238571</td>\n",
       "    </tr>\n",
       "    <tr>\n",
       "      <th>2</th>\n",
       "      <td>37.599</td>\n",
       "      <td>3.199</td>\n",
       "      <td>G1</td>\n",
       "      <td>C2</td>\n",
       "      <td>Gold</td>\n",
       "      <td>0</td>\n",
       "      <td>1</td>\n",
       "      <td>0.496138</td>\n",
       "      <td>0.503862</td>\n",
       "    </tr>\n",
       "    <tr>\n",
       "      <th>3</th>\n",
       "      <td>81.514</td>\n",
       "      <td>1.645</td>\n",
       "      <td>G1</td>\n",
       "      <td>C1</td>\n",
       "      <td>Silver</td>\n",
       "      <td>0</td>\n",
       "      <td>0</td>\n",
       "      <td>0.627799</td>\n",
       "      <td>0.372201</td>\n",
       "    </tr>\n",
       "    <tr>\n",
       "      <th>4</th>\n",
       "      <td>46.805</td>\n",
       "      <td>1.706</td>\n",
       "      <td>G1</td>\n",
       "      <td>C1</td>\n",
       "      <td>Silver</td>\n",
       "      <td>0</td>\n",
       "      <td>0</td>\n",
       "      <td>0.633689</td>\n",
       "      <td>0.366311</td>\n",
       "    </tr>\n",
       "    <tr>\n",
       "      <th>...</th>\n",
       "      <td>...</td>\n",
       "      <td>...</td>\n",
       "      <td>...</td>\n",
       "      <td>...</td>\n",
       "      <td>...</td>\n",
       "      <td>...</td>\n",
       "      <td>...</td>\n",
       "      <td>...</td>\n",
       "      <td>...</td>\n",
       "    </tr>\n",
       "    <tr>\n",
       "      <th>30824</th>\n",
       "      <td>12.094</td>\n",
       "      <td>0.899</td>\n",
       "      <td>G5</td>\n",
       "      <td>C3</td>\n",
       "      <td>Bronze</td>\n",
       "      <td>1</td>\n",
       "      <td>0</td>\n",
       "      <td>0.712698</td>\n",
       "      <td>0.287302</td>\n",
       "    </tr>\n",
       "    <tr>\n",
       "      <th>30825</th>\n",
       "      <td>43.214</td>\n",
       "      <td>6.484</td>\n",
       "      <td>G5</td>\n",
       "      <td>C1</td>\n",
       "      <td>Bronze</td>\n",
       "      <td>1</td>\n",
       "      <td>1</td>\n",
       "      <td>0.215554</td>\n",
       "      <td>0.784446</td>\n",
       "    </tr>\n",
       "    <tr>\n",
       "      <th>30826</th>\n",
       "      <td>20.902</td>\n",
       "      <td>6.159</td>\n",
       "      <td>G5</td>\n",
       "      <td>C1</td>\n",
       "      <td>Bronze</td>\n",
       "      <td>1</td>\n",
       "      <td>1</td>\n",
       "      <td>0.243262</td>\n",
       "      <td>0.756738</td>\n",
       "    </tr>\n",
       "    <tr>\n",
       "      <th>30827</th>\n",
       "      <td>11.443</td>\n",
       "      <td>0.000</td>\n",
       "      <td>G5</td>\n",
       "      <td>C3</td>\n",
       "      <td>Bronze</td>\n",
       "      <td>0</td>\n",
       "      <td>0</td>\n",
       "      <td>0.778434</td>\n",
       "      <td>0.221566</td>\n",
       "    </tr>\n",
       "    <tr>\n",
       "      <th>30828</th>\n",
       "      <td>18.485</td>\n",
       "      <td>0.164</td>\n",
       "      <td>G5</td>\n",
       "      <td>C4</td>\n",
       "      <td>Bronze</td>\n",
       "      <td>0</td>\n",
       "      <td>0</td>\n",
       "      <td>0.765546</td>\n",
       "      <td>0.234454</td>\n",
       "    </tr>\n",
       "  </tbody>\n",
       "</table>\n",
       "<p>30829 rows × 9 columns</p>\n",
       "</div>"
      ],
      "text/plain": [
       "         Var1    Var2 Group Category  Rating  Purchased_ABC_product  y_pred  \\\n",
       "0      41.534  12.123    G1       C1  Bronze                      0       1   \n",
       "1       9.445   0.256    G1       C1  Bronze                      0       0   \n",
       "2      37.599   3.199    G1       C2    Gold                      0       1   \n",
       "3      81.514   1.645    G1       C1  Silver                      0       0   \n",
       "4      46.805   1.706    G1       C1  Silver                      0       0   \n",
       "...       ...     ...   ...      ...     ...                    ...     ...   \n",
       "30824  12.094   0.899    G5       C3  Bronze                      1       0   \n",
       "30825  43.214   6.484    G5       C1  Bronze                      1       1   \n",
       "30826  20.902   6.159    G5       C1  Bronze                      1       1   \n",
       "30827  11.443   0.000    G5       C3  Bronze                      0       0   \n",
       "30828  18.485   0.164    G5       C4  Bronze                      0       0   \n",
       "\n",
       "              0         1  \n",
       "0      0.030273  0.969727  \n",
       "1      0.761429  0.238571  \n",
       "2      0.496138  0.503862  \n",
       "3      0.627799  0.372201  \n",
       "4      0.633689  0.366311  \n",
       "...         ...       ...  \n",
       "30824  0.712698  0.287302  \n",
       "30825  0.215554  0.784446  \n",
       "30826  0.243262  0.756738  \n",
       "30827  0.778434  0.221566  \n",
       "30828  0.765546  0.234454  \n",
       "\n",
       "[30829 rows x 9 columns]"
      ]
     },
     "execution_count": 102,
     "metadata": {},
     "output_type": "execute_result"
    }
   ],
   "source": [
    "y_prob = pd.DataFrame(classifier.predict_proba(X.iloc[:,:]))\n",
    "new_df = pd.concat([x,y_prob],axis=1)\n",
    "new_df  "
   ]
  },
  {
   "cell_type": "code",
   "execution_count": 103,
   "metadata": {
    "ExecuteTime": {
     "end_time": "2021-12-15T13:21:52.136009Z",
     "start_time": "2021-12-15T13:21:51.675405Z"
    }
   },
   "outputs": [
    {
     "name": "stdout",
     "output_type": "stream",
     "text": [
      "[[12870  2435]\n",
      " [ 5581  9943]]\n"
     ]
    }
   ],
   "source": [
    "from sklearn.metrics import confusion_matrix\n",
    "confusion_matrix = confusion_matrix(Y,y_pred)\n",
    "print (confusion_matrix) ## confusion matrix is determined the true positive as well as the false positive rate here."
   ]
  },
  {
   "cell_type": "code",
   "execution_count": 104,
   "metadata": {
    "ExecuteTime": {
     "end_time": "2021-12-15T13:22:04.218442Z",
     "start_time": "2021-12-15T13:22:04.154401Z"
    }
   },
   "outputs": [
    {
     "data": {
      "text/html": [
       "<div>\n",
       "<style scoped>\n",
       "    .dataframe tbody tr th:only-of-type {\n",
       "        vertical-align: middle;\n",
       "    }\n",
       "\n",
       "    .dataframe tbody tr th {\n",
       "        vertical-align: top;\n",
       "    }\n",
       "\n",
       "    .dataframe thead th {\n",
       "        text-align: right;\n",
       "    }\n",
       "</style>\n",
       "<table border=\"1\" class=\"dataframe\">\n",
       "  <thead>\n",
       "    <tr style=\"text-align: right;\">\n",
       "      <th>Purchased_ABC_product</th>\n",
       "      <th>0</th>\n",
       "      <th>1</th>\n",
       "    </tr>\n",
       "    <tr>\n",
       "      <th>row_0</th>\n",
       "      <th></th>\n",
       "      <th></th>\n",
       "    </tr>\n",
       "  </thead>\n",
       "  <tbody>\n",
       "    <tr>\n",
       "      <th>0</th>\n",
       "      <td>12870</td>\n",
       "      <td>5581</td>\n",
       "    </tr>\n",
       "    <tr>\n",
       "      <th>1</th>\n",
       "      <td>2435</td>\n",
       "      <td>9943</td>\n",
       "    </tr>\n",
       "  </tbody>\n",
       "</table>\n",
       "</div>"
      ],
      "text/plain": [
       "Purchased_ABC_product      0     1\n",
       "row_0                             \n",
       "0                      12870  5581\n",
       "1                       2435  9943"
      ]
     },
     "execution_count": 104,
     "metadata": {},
     "output_type": "execute_result"
    }
   ],
   "source": [
    "pd.crosstab(y_pred,Y) ## here we can clearly say that variable probabaility of predicted values at 1s and 0s are effected the model"
   ]
  },
  {
   "cell_type": "code",
   "execution_count": 105,
   "metadata": {
    "ExecuteTime": {
     "end_time": "2021-12-15T13:22:21.687923Z",
     "start_time": "2021-12-15T13:22:21.668910Z"
    }
   },
   "outputs": [
    {
     "data": {
      "text/plain": [
       "0.7399850789840734"
      ]
     },
     "execution_count": 105,
     "metadata": {},
     "output_type": "execute_result"
    }
   ],
   "source": [
    "#type(y_pred)\n",
    "accuracy = sum(Y==y_pred)/x.shape[0]\n",
    "accuracy ### here is the shape values of the accuracy of the model and its 74 percent here"
   ]
  },
  {
   "cell_type": "code",
   "execution_count": 106,
   "metadata": {
    "ExecuteTime": {
     "end_time": "2021-12-15T13:22:41.084304Z",
     "start_time": "2021-12-15T13:22:40.991733Z"
    }
   },
   "outputs": [
    {
     "name": "stdout",
     "output_type": "stream",
     "text": [
      "              precision    recall  f1-score   support\n",
      "\n",
      "           0       0.70      0.84      0.76     15305\n",
      "           1       0.80      0.64      0.71     15524\n",
      "\n",
      "    accuracy                           0.74     30829\n",
      "   macro avg       0.75      0.74      0.74     30829\n",
      "weighted avg       0.75      0.74      0.74     30829\n",
      "\n"
     ]
    }
   ],
   "source": [
    "from sklearn.metrics import classification_report \n",
    "print (classification_report (Y, y_pred)) ### here in this case we have to find out precision and recall as well as f1-score values"
   ]
  },
  {
   "cell_type": "code",
   "execution_count": 107,
   "metadata": {
    "ExecuteTime": {
     "end_time": "2021-12-15T13:23:02.756139Z",
     "start_time": "2021-12-15T13:23:02.717608Z"
    }
   },
   "outputs": [
    {
     "data": {
      "text/plain": [
       "0.7406969036614518"
      ]
     },
     "execution_count": 107,
     "metadata": {},
     "output_type": "execute_result"
    }
   ],
   "source": [
    "from sklearn.metrics import roc_auc_score\n",
    "from sklearn.metrics import roc_curve\n",
    "Logit_roc_score=roc_auc_score(Y,classifier.predict(X))\n",
    "Logit_roc_score  ## here we got the score of the roc model is 74 percent here."
   ]
  },
  {
   "cell_type": "code",
   "execution_count": 108,
   "metadata": {
    "ExecuteTime": {
     "end_time": "2021-12-15T13:23:29.262921Z",
     "start_time": "2021-12-15T13:23:28.802741Z"
    }
   },
   "outputs": [
    {
     "data": {
      "image/png": "[encoded data removed]",
      "text/plain": [
       "<Figure size 432x288 with 1 Axes>"
      ]
     },
     "metadata": {
      "needs_background": "light"
     },
     "output_type": "display_data"
    }
   ],
   "source": [
    "fpr, tpr, thresholds = roc_curve(Y,classifier.predict_proba(X)[:,1]) \n",
    "plt.plot(fpr, tpr, label='Logistic Regression (area=%0.2f)'% Logit_roc_score)\n",
    "plt.plot([0, 1], [0, 1],'r--')\n",
    "plt.xlim([0.0, 1.0])\n",
    "plt.ylim([0.0, 1.05])\n",
    "plt.xlabel('False Positive Rate')\n",
    "plt.ylabel('True Positive Rate')\n",
    "plt.title('Receiver operating characteristic')\n",
    "plt.legend(loc=\"lower right\")\n",
    "plt.show()   ## here roc curve is drawn between true and false positive rate here"
   ]
  },
  {
   "cell_type": "code",
   "execution_count": 109,
   "metadata": {
    "ExecuteTime": {
     "end_time": "2021-12-15T13:23:52.721124Z",
     "start_time": "2021-12-15T13:23:52.706114Z"
    }
   },
   "outputs": [],
   "source": [
    "y_prob1 = pd.DataFrame(classifier.predict_proba(X)[:,1]) ## here we find out probabaility of our predicted model"
   ]
  },
  {
   "cell_type": "code",
   "execution_count": 110,
   "metadata": {
    "ExecuteTime": {
     "end_time": "2021-12-15T13:23:56.892904Z",
     "start_time": "2021-12-15T13:23:56.876887Z"
    }
   },
   "outputs": [
    {
     "data": {
      "text/html": [
       "<div>\n",
       "<style scoped>\n",
       "    .dataframe tbody tr th:only-of-type {\n",
       "        vertical-align: middle;\n",
       "    }\n",
       "\n",
       "    .dataframe tbody tr th {\n",
       "        vertical-align: top;\n",
       "    }\n",
       "\n",
       "    .dataframe thead th {\n",
       "        text-align: right;\n",
       "    }\n",
       "</style>\n",
       "<table border=\"1\" class=\"dataframe\">\n",
       "  <thead>\n",
       "    <tr style=\"text-align: right;\">\n",
       "      <th></th>\n",
       "      <th>0</th>\n",
       "    </tr>\n",
       "  </thead>\n",
       "  <tbody>\n",
       "    <tr>\n",
       "      <th>0</th>\n",
       "      <td>0.969727</td>\n",
       "    </tr>\n",
       "    <tr>\n",
       "      <th>1</th>\n",
       "      <td>0.238571</td>\n",
       "    </tr>\n",
       "    <tr>\n",
       "      <th>2</th>\n",
       "      <td>0.503862</td>\n",
       "    </tr>\n",
       "    <tr>\n",
       "      <th>3</th>\n",
       "      <td>0.372201</td>\n",
       "    </tr>\n",
       "    <tr>\n",
       "      <th>4</th>\n",
       "      <td>0.366311</td>\n",
       "    </tr>\n",
       "    <tr>\n",
       "      <th>...</th>\n",
       "      <td>...</td>\n",
       "    </tr>\n",
       "    <tr>\n",
       "      <th>30824</th>\n",
       "      <td>0.287302</td>\n",
       "    </tr>\n",
       "    <tr>\n",
       "      <th>30825</th>\n",
       "      <td>0.784446</td>\n",
       "    </tr>\n",
       "    <tr>\n",
       "      <th>30826</th>\n",
       "      <td>0.756738</td>\n",
       "    </tr>\n",
       "    <tr>\n",
       "      <th>30827</th>\n",
       "      <td>0.221566</td>\n",
       "    </tr>\n",
       "    <tr>\n",
       "      <th>30828</th>\n",
       "      <td>0.234454</td>\n",
       "    </tr>\n",
       "  </tbody>\n",
       "</table>\n",
       "<p>30829 rows × 1 columns</p>\n",
       "</div>"
      ],
      "text/plain": [
       "              0\n",
       "0      0.969727\n",
       "1      0.238571\n",
       "2      0.503862\n",
       "3      0.372201\n",
       "4      0.366311\n",
       "...         ...\n",
       "30824  0.287302\n",
       "30825  0.784446\n",
       "30826  0.756738\n",
       "30827  0.221566\n",
       "30828  0.234454\n",
       "\n",
       "[30829 rows x 1 columns]"
      ]
     },
     "execution_count": 110,
     "metadata": {},
     "output_type": "execute_result"
    }
   ],
   "source": [
    "y_prob1"
   ]
  },
  {
   "cell_type": "code",
   "execution_count": 111,
   "metadata": {
    "ExecuteTime": {
     "end_time": "2021-12-15T13:24:20.426407Z",
     "start_time": "2021-12-15T13:24:17.386793Z"
    }
   },
   "outputs": [],
   "source": [
    "import statsmodels.api as sm ## Finally we have to bulid the model here"
   ]
  },
  {
   "cell_type": "code",
   "execution_count": 112,
   "metadata": {
    "ExecuteTime": {
     "end_time": "2021-12-15T13:24:34.187373Z",
     "start_time": "2021-12-15T13:24:34.086296Z"
    }
   },
   "outputs": [],
   "source": [
    "logit = sm.Logit(Y, X)  ## we have to fit the logistic regression model using Logit function here"
   ]
  },
  {
   "cell_type": "code",
   "execution_count": 113,
   "metadata": {
    "ExecuteTime": {
     "end_time": "2021-12-15T13:24:45.422928Z",
     "start_time": "2021-12-15T13:24:45.231987Z"
    }
   },
   "outputs": [
    {
     "name": "stdout",
     "output_type": "stream",
     "text": [
      "Optimization terminated successfully.\n",
      "         Current function value: 0.599308\n",
      "         Iterations 7\n"
     ]
    },
    {
     "data": {
      "text/html": [
       "<table class=\"simpletable\">\n",
       "<caption>Logit Regression Results</caption>\n",
       "<tr>\n",
       "  <th>Dep. Variable:</th>   <td>Purchased_ABC_product</td> <th>  No. Observations:  </th>  <td> 30829</td> \n",
       "</tr>\n",
       "<tr>\n",
       "  <th>Model:</th>                   <td>Logit</td>         <th>  Df Residuals:      </th>  <td> 30827</td> \n",
       "</tr>\n",
       "<tr>\n",
       "  <th>Method:</th>                   <td>MLE</td>          <th>  Df Model:          </th>  <td>     1</td> \n",
       "</tr>\n",
       "<tr>\n",
       "  <th>Date:</th>              <td>Wed, 15 Dec 2021</td>    <th>  Pseudo R-squ.:     </th>  <td>0.1354</td> \n",
       "</tr>\n",
       "<tr>\n",
       "  <th>Time:</th>                  <td>18:54:45</td>        <th>  Log-Likelihood:    </th> <td> -18476.</td>\n",
       "</tr>\n",
       "<tr>\n",
       "  <th>converged:</th>               <td>True</td>          <th>  LL-Null:           </th> <td> -21368.</td>\n",
       "</tr>\n",
       "<tr>\n",
       "  <th>Covariance Type:</th>       <td>nonrobust</td>       <th>  LLR p-value:       </th>  <td> 0.000</td> \n",
       "</tr>\n",
       "</table>\n",
       "<table class=\"simpletable\">\n",
       "<tr>\n",
       "    <td></td>      <th>coef</th>     <th>std err</th>      <th>z</th>      <th>P>|z|</th>  <th>[0.025</th>    <th>0.975]</th>  \n",
       "</tr>\n",
       "<tr>\n",
       "  <th>Var1</th> <td>   -0.0063</td> <td>    0.000</td> <td>  -17.190</td> <td> 0.000</td> <td>   -0.007</td> <td>   -0.006</td>\n",
       "</tr>\n",
       "<tr>\n",
       "  <th>Var2</th> <td>    0.2458</td> <td>    0.006</td> <td>   40.835</td> <td> 0.000</td> <td>    0.234</td> <td>    0.258</td>\n",
       "</tr>\n",
       "</table>"
      ],
      "text/plain": [
       "<class 'statsmodels.iolib.summary.Summary'>\n",
       "\"\"\"\n",
       "                             Logit Regression Results                            \n",
       "=================================================================================\n",
       "Dep. Variable:     Purchased_ABC_product   No. Observations:                30829\n",
       "Model:                             Logit   Df Residuals:                    30827\n",
       "Method:                              MLE   Df Model:                            1\n",
       "Date:                   Wed, 15 Dec 2021   Pseudo R-squ.:                  0.1354\n",
       "Time:                           18:54:45   Log-Likelihood:                -18476.\n",
       "converged:                          True   LL-Null:                       -21368.\n",
       "Covariance Type:               nonrobust   LLR p-value:                     0.000\n",
       "==============================================================================\n",
       "                 coef    std err          z      P>|z|      [0.025      0.975]\n",
       "------------------------------------------------------------------------------\n",
       "Var1          -0.0063      0.000    -17.190      0.000      -0.007      -0.006\n",
       "Var2           0.2458      0.006     40.835      0.000       0.234       0.258\n",
       "==============================================================================\n",
       "\"\"\""
      ]
     },
     "execution_count": 113,
     "metadata": {},
     "output_type": "execute_result"
    }
   ],
   "source": [
    "logit.fit().summary()## here finally we have to summarize the final model"
   ]
  },
  {
   "cell_type": "code",
   "execution_count": 114,
   "metadata": {
    "ExecuteTime": {
     "end_time": "2021-12-15T13:25:18.918600Z",
     "start_time": "2021-12-15T13:25:18.910595Z"
    }
   },
   "outputs": [
    {
     "data": {
      "text/plain": [
       "array([0.        , 0.        , 0.        , ..., 0.99901993, 0.9991506 ,\n",
       "       1.        ])"
      ]
     },
     "execution_count": 114,
     "metadata": {},
     "output_type": "execute_result"
    }
   ],
   "source": [
    "fpr ## this will denote the false positive rate and its probabaility of being false positive here"
   ]
  },
  {
   "cell_type": "code",
   "execution_count": 115,
   "metadata": {
    "ExecuteTime": {
     "end_time": "2021-12-15T13:25:23.705368Z",
     "start_time": "2021-12-15T13:25:23.695363Z"
    }
   },
   "outputs": [
    {
     "data": {
      "text/plain": [
       "array([0.        , 0.00244782, 0.00257666, ..., 1.        , 1.        ,\n",
       "       1.        ])"
      ]
     },
     "execution_count": 115,
     "metadata": {},
     "output_type": "execute_result"
    }
   ],
   "source": [
    "tpr ## It will denote true positive rate and its probabaility here."
   ]
  },
  {
   "cell_type": "code",
   "execution_count": 116,
   "metadata": {
    "ExecuteTime": {
     "end_time": "2021-12-15T13:38:02.839559Z",
     "start_time": "2021-12-15T13:38:02.797717Z"
    }
   },
   "outputs": [
    {
     "data": {
      "text/html": [
       "<div>\n",
       "<style scoped>\n",
       "    .dataframe tbody tr th:only-of-type {\n",
       "        vertical-align: middle;\n",
       "    }\n",
       "\n",
       "    .dataframe tbody tr th {\n",
       "        vertical-align: top;\n",
       "    }\n",
       "\n",
       "    .dataframe thead th {\n",
       "        text-align: right;\n",
       "    }\n",
       "</style>\n",
       "<table border=\"1\" class=\"dataframe\">\n",
       "  <thead>\n",
       "    <tr style=\"text-align: right;\">\n",
       "      <th>Purchased_ABC_product</th>\n",
       "      <th>0</th>\n",
       "      <th>1</th>\n",
       "    </tr>\n",
       "    <tr>\n",
       "      <th>Group</th>\n",
       "      <th></th>\n",
       "      <th></th>\n",
       "    </tr>\n",
       "  </thead>\n",
       "  <tbody>\n",
       "    <tr>\n",
       "      <th>G1</th>\n",
       "      <td>10135</td>\n",
       "      <td>9230</td>\n",
       "    </tr>\n",
       "    <tr>\n",
       "      <th>G2</th>\n",
       "      <td>200</td>\n",
       "      <td>98</td>\n",
       "    </tr>\n",
       "    <tr>\n",
       "      <th>G3</th>\n",
       "      <td>282</td>\n",
       "      <td>1480</td>\n",
       "    </tr>\n",
       "    <tr>\n",
       "      <th>G4</th>\n",
       "      <td>266</td>\n",
       "      <td>228</td>\n",
       "    </tr>\n",
       "    <tr>\n",
       "      <th>G5</th>\n",
       "      <td>4222</td>\n",
       "      <td>4336</td>\n",
       "    </tr>\n",
       "    <tr>\n",
       "      <th>G6</th>\n",
       "      <td>177</td>\n",
       "      <td>135</td>\n",
       "    </tr>\n",
       "    <tr>\n",
       "      <th>G7</th>\n",
       "      <td>9</td>\n",
       "      <td>12</td>\n",
       "    </tr>\n",
       "    <tr>\n",
       "      <th>G8</th>\n",
       "      <td>14</td>\n",
       "      <td>5</td>\n",
       "    </tr>\n",
       "  </tbody>\n",
       "</table>\n",
       "</div>"
      ],
      "text/plain": [
       "Purchased_ABC_product      0     1\n",
       "Group                             \n",
       "G1                     10135  9230\n",
       "G2                       200    98\n",
       "G3                       282  1480\n",
       "G4                       266   228\n",
       "G5                      4222  4336\n",
       "G6                       177   135\n",
       "G7                         9    12\n",
       "G8                        14     5"
      ]
     },
     "execution_count": 116,
     "metadata": {},
     "output_type": "execute_result"
    }
   ],
   "source": [
    "pd.crosstab(x.Group,x.Purchased_ABC_product)## from that crosstab we can figure out at G1 got maximum Purchased of ABC products"
   ]
  },
  {
   "cell_type": "code",
   "execution_count": 117,
   "metadata": {
    "ExecuteTime": {
     "end_time": "2021-12-15T13:39:36.020998Z",
     "start_time": "2021-12-15T13:39:35.584520Z"
    }
   },
   "outputs": [
    {
     "data": {
      "text/plain": [
       "<matplotlib.axes._subplots.AxesSubplot at 0x1da8ad97940>"
      ]
     },
     "execution_count": 117,
     "metadata": {},
     "output_type": "execute_result"
    },
    {
     "data": {
      "image/png": "[encoded data removed]",
      "text/plain": [
       "<Figure size 432x288 with 1 Axes>"
      ]
     },
     "metadata": {
      "needs_background": "light"
     },
     "output_type": "display_data"
    }
   ],
   "source": [
    "pd.crosstab(x.Group,x.Purchased_ABC_product).plot(kind='bar')"
   ]
  },
  {
   "cell_type": "code",
   "execution_count": 118,
   "metadata": {
    "ExecuteTime": {
     "end_time": "2021-12-15T13:40:49.904633Z",
     "start_time": "2021-12-15T13:40:49.064575Z"
    }
   },
   "outputs": [
    {
     "data": {
      "text/html": [
       "<div>\n",
       "<style scoped>\n",
       "    .dataframe tbody tr th:only-of-type {\n",
       "        vertical-align: middle;\n",
       "    }\n",
       "\n",
       "    .dataframe tbody tr th {\n",
       "        vertical-align: top;\n",
       "    }\n",
       "\n",
       "    .dataframe thead th {\n",
       "        text-align: right;\n",
       "    }\n",
       "</style>\n",
       "<table border=\"1\" class=\"dataframe\">\n",
       "  <thead>\n",
       "    <tr style=\"text-align: right;\">\n",
       "      <th>Purchased_ABC_product</th>\n",
       "      <th>0</th>\n",
       "      <th>1</th>\n",
       "    </tr>\n",
       "    <tr>\n",
       "      <th>Var1</th>\n",
       "      <th></th>\n",
       "      <th></th>\n",
       "    </tr>\n",
       "  </thead>\n",
       "  <tbody>\n",
       "    <tr>\n",
       "      <th>0.251</th>\n",
       "      <td>1</td>\n",
       "      <td>0</td>\n",
       "    </tr>\n",
       "    <tr>\n",
       "      <th>0.254</th>\n",
       "      <td>1</td>\n",
       "      <td>0</td>\n",
       "    </tr>\n",
       "    <tr>\n",
       "      <th>0.348</th>\n",
       "      <td>1</td>\n",
       "      <td>0</td>\n",
       "    </tr>\n",
       "    <tr>\n",
       "      <th>0.358</th>\n",
       "      <td>1</td>\n",
       "      <td>0</td>\n",
       "    </tr>\n",
       "    <tr>\n",
       "      <th>0.530</th>\n",
       "      <td>1</td>\n",
       "      <td>0</td>\n",
       "    </tr>\n",
       "    <tr>\n",
       "      <th>...</th>\n",
       "      <td>...</td>\n",
       "      <td>...</td>\n",
       "    </tr>\n",
       "    <tr>\n",
       "      <th>1700.419</th>\n",
       "      <td>0</td>\n",
       "      <td>1</td>\n",
       "    </tr>\n",
       "    <tr>\n",
       "      <th>1784.045</th>\n",
       "      <td>0</td>\n",
       "      <td>1</td>\n",
       "    </tr>\n",
       "    <tr>\n",
       "      <th>1988.040</th>\n",
       "      <td>0</td>\n",
       "      <td>1</td>\n",
       "    </tr>\n",
       "    <tr>\n",
       "      <th>2094.866</th>\n",
       "      <td>0</td>\n",
       "      <td>1</td>\n",
       "    </tr>\n",
       "    <tr>\n",
       "      <th>2909.776</th>\n",
       "      <td>0</td>\n",
       "      <td>1</td>\n",
       "    </tr>\n",
       "  </tbody>\n",
       "</table>\n",
       "<p>26050 rows × 2 columns</p>\n",
       "</div>"
      ],
      "text/plain": [
       "Purchased_ABC_product  0  1\n",
       "Var1                       \n",
       "0.251                  1  0\n",
       "0.254                  1  0\n",
       "0.348                  1  0\n",
       "0.358                  1  0\n",
       "0.530                  1  0\n",
       "...                   .. ..\n",
       "1700.419               0  1\n",
       "1784.045               0  1\n",
       "1988.040               0  1\n",
       "2094.866               0  1\n",
       "2909.776               0  1\n",
       "\n",
       "[26050 rows x 2 columns]"
      ]
     },
     "execution_count": 118,
     "metadata": {},
     "output_type": "execute_result"
    }
   ],
   "source": [
    "pd.crosstab(x.Var1,x.Purchased_ABC_product)"
   ]
  },
  {
   "cell_type": "code",
   "execution_count": 121,
   "metadata": {
    "ExecuteTime": {
     "end_time": "2021-12-15T13:53:44.193939Z",
     "start_time": "2021-12-15T13:53:43.138642Z"
    }
   },
   "outputs": [
    {
     "data": {
      "text/plain": [
       "<matplotlib.axes._subplots.AxesSubplot at 0x1daaef21730>"
      ]
     },
     "execution_count": 121,
     "metadata": {},
     "output_type": "execute_result"
    },
    {
     "data": {
      "image/png": "[encoded data removed]",
      "text/plain": [
       "<Figure size 432x288 with 1 Axes>"
      ]
     },
     "metadata": {
      "needs_background": "light"
     },
     "output_type": "display_data"
    }
   ],
   "source": [
    "pd.crosstab(x.Var1,x.Purchased_ABC_product).plot(kind='hist') ## here Var1 is not influencing purchase of products 'ABC'"
   ]
  },
  {
   "cell_type": "code",
   "execution_count": 122,
   "metadata": {
    "ExecuteTime": {
     "end_time": "2021-12-15T13:54:22.918180Z",
     "start_time": "2021-12-15T13:54:22.699016Z"
    }
   },
   "outputs": [
    {
     "data": {
      "text/html": [
       "<div>\n",
       "<style scoped>\n",
       "    .dataframe tbody tr th:only-of-type {\n",
       "        vertical-align: middle;\n",
       "    }\n",
       "\n",
       "    .dataframe tbody tr th {\n",
       "        vertical-align: top;\n",
       "    }\n",
       "\n",
       "    .dataframe thead th {\n",
       "        text-align: right;\n",
       "    }\n",
       "</style>\n",
       "<table border=\"1\" class=\"dataframe\">\n",
       "  <thead>\n",
       "    <tr style=\"text-align: right;\">\n",
       "      <th>Purchased_ABC_product</th>\n",
       "      <th>0</th>\n",
       "      <th>1</th>\n",
       "    </tr>\n",
       "    <tr>\n",
       "      <th>Var2</th>\n",
       "      <th></th>\n",
       "      <th></th>\n",
       "    </tr>\n",
       "  </thead>\n",
       "  <tbody>\n",
       "    <tr>\n",
       "      <th>0.000</th>\n",
       "      <td>4192</td>\n",
       "      <td>0</td>\n",
       "    </tr>\n",
       "    <tr>\n",
       "      <th>0.023</th>\n",
       "      <td>0</td>\n",
       "      <td>1</td>\n",
       "    </tr>\n",
       "    <tr>\n",
       "      <th>0.027</th>\n",
       "      <td>2</td>\n",
       "      <td>0</td>\n",
       "    </tr>\n",
       "    <tr>\n",
       "      <th>0.030</th>\n",
       "      <td>1</td>\n",
       "      <td>1</td>\n",
       "    </tr>\n",
       "    <tr>\n",
       "      <th>0.037</th>\n",
       "      <td>1</td>\n",
       "      <td>0</td>\n",
       "    </tr>\n",
       "    <tr>\n",
       "      <th>...</th>\n",
       "      <td>...</td>\n",
       "      <td>...</td>\n",
       "    </tr>\n",
       "    <tr>\n",
       "      <th>178.064</th>\n",
       "      <td>0</td>\n",
       "      <td>1</td>\n",
       "    </tr>\n",
       "    <tr>\n",
       "      <th>190.876</th>\n",
       "      <td>0</td>\n",
       "      <td>1</td>\n",
       "    </tr>\n",
       "    <tr>\n",
       "      <th>204.999</th>\n",
       "      <td>0</td>\n",
       "      <td>1</td>\n",
       "    </tr>\n",
       "    <tr>\n",
       "      <th>282.688</th>\n",
       "      <td>0</td>\n",
       "      <td>1</td>\n",
       "    </tr>\n",
       "    <tr>\n",
       "      <th>317.380</th>\n",
       "      <td>0</td>\n",
       "      <td>1</td>\n",
       "    </tr>\n",
       "  </tbody>\n",
       "</table>\n",
       "<p>10982 rows × 2 columns</p>\n",
       "</div>"
      ],
      "text/plain": [
       "Purchased_ABC_product     0  1\n",
       "Var2                          \n",
       "0.000                  4192  0\n",
       "0.023                     0  1\n",
       "0.027                     2  0\n",
       "0.030                     1  1\n",
       "0.037                     1  0\n",
       "...                     ... ..\n",
       "178.064                   0  1\n",
       "190.876                   0  1\n",
       "204.999                   0  1\n",
       "282.688                   0  1\n",
       "317.380                   0  1\n",
       "\n",
       "[10982 rows x 2 columns]"
      ]
     },
     "execution_count": 122,
     "metadata": {},
     "output_type": "execute_result"
    }
   ],
   "source": [
    "pd.crosstab(x.Var2,x.Purchased_ABC_product)"
   ]
  },
  {
   "cell_type": "code",
   "execution_count": 123,
   "metadata": {
    "ExecuteTime": {
     "end_time": "2021-12-15T13:54:41.525576Z",
     "start_time": "2021-12-15T13:54:40.839671Z"
    }
   },
   "outputs": [
    {
     "data": {
      "text/plain": [
       "array([[<matplotlib.axes._subplots.AxesSubplot object at 0x000001DA8D27E280>,\n",
       "        <matplotlib.axes._subplots.AxesSubplot object at 0x000001DAD0504880>]],\n",
       "      dtype=object)"
      ]
     },
     "execution_count": 123,
     "metadata": {},
     "output_type": "execute_result"
    },
    {
     "data": {
      "image/png": "[encoded data removed]",
      "text/plain": [
       "<Figure size 432x288 with 2 Axes>"
      ]
     },
     "metadata": {
      "needs_background": "light"
     },
     "output_type": "display_data"
    }
   ],
   "source": [
    "pd.crosstab(x.Var2,x.Purchased_ABC_product).hist() ## var2 influencing purchase of products 'ABC' here"
   ]
  },
  {
   "cell_type": "code",
   "execution_count": null,
   "metadata": {},
   "outputs": [],
   "source": []
  }
 ],
 "metadata": {
  "kernelspec": {
   "display_name": "Python 3",
   "language": "python",
   "name": "python3"
  },
  "language_info": {
   "codemirror_mode": {
    "name": "ipython",
    "version": 3
   },
   "file_extension": ".py",
   "mimetype": "text/x-python",
   "name": "python",
   "nbconvert_exporter": "python",
   "pygments_lexer": "ipython3",
   "version": "3.8.3"
  },
  "varInspector": {
   "cols": {
    "lenName": 16,
    "lenType": 16,
    "lenVar": 40
   },
   "kernels_config": {
    "python": {
     "delete_cmd_postfix": "",
     "delete_cmd_prefix": "del ",
     "library": "var_list.py",
     "varRefreshCmd": "print(var_dic_list())"
    },
    "r": {
     "delete_cmd_postfix": ") ",
     "delete_cmd_prefix": "rm(",
     "library": "var_list.r",
     "varRefreshCmd": "cat(var_dic_list()) "
    }
   },
   "types_to_exclude": [
    "module",
    "function",
    "builtin_function_or_method",
    "instance",
    "_Feature"
   ],
   "window_display": false
  }
 },
 "nbformat": 4,
 "nbformat_minor": 4
}
